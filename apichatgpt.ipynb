{
  "nbformat": 4,
  "nbformat_minor": 0,
  "metadata": {
    "colab": {
      "provenance": [],
      "include_colab_link": true
    },
    "kernelspec": {
      "name": "python3",
      "display_name": "Python 3"
    },
    "language_info": {
      "name": "python"
    }
  },
  "cells": [
    {
      "cell_type": "markdown",
      "metadata": {
        "id": "view-in-github",
        "colab_type": "text"
      },
      "source": [
        "<a href=\"https://colab.research.google.com/github/inkatown/knowledge_graph_github_openaiazure/blob/main/apichatgpt.ipynb\" target=\"_parent\"><img src=\"https://colab.research.google.com/assets/colab-badge.svg\" alt=\"Open In Colab\"/></a>"
      ]
    },
    {
      "cell_type": "code",
      "source": [
        "!pip install langchain_experimental\n",
        "!pip install langchain_openai\n",
        "!pip install pyvis"
      ],
      "metadata": {
        "colab": {
          "base_uri": "https://localhost:8080/"
        },
        "id": "2j4xZHc_zf6u",
        "outputId": "64226fd5-17e3-48eb-c458-ad036395deea"
      },
      "execution_count": null,
      "outputs": [
        {
          "output_type": "stream",
          "name": "stdout",
          "text": [
            "Collecting langchain_experimental\n",
            "  Downloading langchain_experimental-0.3.4-py3-none-any.whl.metadata (1.7 kB)\n",
            "Collecting langchain-community<0.4.0,>=0.3.0 (from langchain_experimental)\n",
            "  Downloading langchain_community-0.3.24-py3-none-any.whl.metadata (2.5 kB)\n",
            "Requirement already satisfied: langchain-core<0.4.0,>=0.3.28 in /usr/local/lib/python3.11/dist-packages (from langchain_experimental) (0.3.63)\n",
            "Requirement already satisfied: langchain<1.0.0,>=0.3.25 in /usr/local/lib/python3.11/dist-packages (from langchain-community<0.4.0,>=0.3.0->langchain_experimental) (0.3.25)\n",
            "Requirement already satisfied: SQLAlchemy<3,>=1.4 in /usr/local/lib/python3.11/dist-packages (from langchain-community<0.4.0,>=0.3.0->langchain_experimental) (2.0.41)\n",
            "Requirement already satisfied: requests<3,>=2 in /usr/local/lib/python3.11/dist-packages (from langchain-community<0.4.0,>=0.3.0->langchain_experimental) (2.32.3)\n",
            "Requirement already satisfied: PyYAML>=5.3 in /usr/local/lib/python3.11/dist-packages (from langchain-community<0.4.0,>=0.3.0->langchain_experimental) (6.0.2)\n",
            "Requirement already satisfied: aiohttp<4.0.0,>=3.8.3 in /usr/local/lib/python3.11/dist-packages (from langchain-community<0.4.0,>=0.3.0->langchain_experimental) (3.11.15)\n",
            "Requirement already satisfied: tenacity!=8.4.0,<10,>=8.1.0 in /usr/local/lib/python3.11/dist-packages (from langchain-community<0.4.0,>=0.3.0->langchain_experimental) (9.1.2)\n",
            "Collecting dataclasses-json<0.7,>=0.5.7 (from langchain-community<0.4.0,>=0.3.0->langchain_experimental)\n",
            "  Downloading dataclasses_json-0.6.7-py3-none-any.whl.metadata (25 kB)\n",
            "Collecting pydantic-settings<3.0.0,>=2.4.0 (from langchain-community<0.4.0,>=0.3.0->langchain_experimental)\n",
            "  Downloading pydantic_settings-2.9.1-py3-none-any.whl.metadata (3.8 kB)\n",
            "Requirement already satisfied: langsmith<0.4,>=0.1.125 in /usr/local/lib/python3.11/dist-packages (from langchain-community<0.4.0,>=0.3.0->langchain_experimental) (0.3.44)\n",
            "Collecting httpx-sse<1.0.0,>=0.4.0 (from langchain-community<0.4.0,>=0.3.0->langchain_experimental)\n",
            "  Downloading httpx_sse-0.4.0-py3-none-any.whl.metadata (9.0 kB)\n",
            "Requirement already satisfied: numpy>=1.26.2 in /usr/local/lib/python3.11/dist-packages (from langchain-community<0.4.0,>=0.3.0->langchain_experimental) (2.0.2)\n",
            "Requirement already satisfied: jsonpatch<2.0,>=1.33 in /usr/local/lib/python3.11/dist-packages (from langchain-core<0.4.0,>=0.3.28->langchain_experimental) (1.33)\n",
            "Requirement already satisfied: packaging<25,>=23.2 in /usr/local/lib/python3.11/dist-packages (from langchain-core<0.4.0,>=0.3.28->langchain_experimental) (24.2)\n",
            "Requirement already satisfied: typing-extensions>=4.7 in /usr/local/lib/python3.11/dist-packages (from langchain-core<0.4.0,>=0.3.28->langchain_experimental) (4.14.0)\n",
            "Requirement already satisfied: pydantic>=2.7.4 in /usr/local/lib/python3.11/dist-packages (from langchain-core<0.4.0,>=0.3.28->langchain_experimental) (2.11.5)\n",
            "Requirement already satisfied: aiohappyeyeballs>=2.3.0 in /usr/local/lib/python3.11/dist-packages (from aiohttp<4.0.0,>=3.8.3->langchain-community<0.4.0,>=0.3.0->langchain_experimental) (2.6.1)\n",
            "Requirement already satisfied: aiosignal>=1.1.2 in /usr/local/lib/python3.11/dist-packages (from aiohttp<4.0.0,>=3.8.3->langchain-community<0.4.0,>=0.3.0->langchain_experimental) (1.3.2)\n",
            "Requirement already satisfied: attrs>=17.3.0 in /usr/local/lib/python3.11/dist-packages (from aiohttp<4.0.0,>=3.8.3->langchain-community<0.4.0,>=0.3.0->langchain_experimental) (25.3.0)\n",
            "Requirement already satisfied: frozenlist>=1.1.1 in /usr/local/lib/python3.11/dist-packages (from aiohttp<4.0.0,>=3.8.3->langchain-community<0.4.0,>=0.3.0->langchain_experimental) (1.6.0)\n",
            "Requirement already satisfied: multidict<7.0,>=4.5 in /usr/local/lib/python3.11/dist-packages (from aiohttp<4.0.0,>=3.8.3->langchain-community<0.4.0,>=0.3.0->langchain_experimental) (6.4.4)\n",
            "Requirement already satisfied: propcache>=0.2.0 in /usr/local/lib/python3.11/dist-packages (from aiohttp<4.0.0,>=3.8.3->langchain-community<0.4.0,>=0.3.0->langchain_experimental) (0.3.1)\n",
            "Requirement already satisfied: yarl<2.0,>=1.17.0 in /usr/local/lib/python3.11/dist-packages (from aiohttp<4.0.0,>=3.8.3->langchain-community<0.4.0,>=0.3.0->langchain_experimental) (1.20.0)\n",
            "Collecting marshmallow<4.0.0,>=3.18.0 (from dataclasses-json<0.7,>=0.5.7->langchain-community<0.4.0,>=0.3.0->langchain_experimental)\n",
            "  Downloading marshmallow-3.26.1-py3-none-any.whl.metadata (7.3 kB)\n",
            "Collecting typing-inspect<1,>=0.4.0 (from dataclasses-json<0.7,>=0.5.7->langchain-community<0.4.0,>=0.3.0->langchain_experimental)\n",
            "  Downloading typing_inspect-0.9.0-py3-none-any.whl.metadata (1.5 kB)\n",
            "Requirement already satisfied: jsonpointer>=1.9 in /usr/local/lib/python3.11/dist-packages (from jsonpatch<2.0,>=1.33->langchain-core<0.4.0,>=0.3.28->langchain_experimental) (3.0.0)\n",
            "Requirement already satisfied: langchain-text-splitters<1.0.0,>=0.3.8 in /usr/local/lib/python3.11/dist-packages (from langchain<1.0.0,>=0.3.25->langchain-community<0.4.0,>=0.3.0->langchain_experimental) (0.3.8)\n",
            "Requirement already satisfied: httpx<1,>=0.23.0 in /usr/local/lib/python3.11/dist-packages (from langsmith<0.4,>=0.1.125->langchain-community<0.4.0,>=0.3.0->langchain_experimental) (0.28.1)\n",
            "Requirement already satisfied: orjson<4.0.0,>=3.9.14 in /usr/local/lib/python3.11/dist-packages (from langsmith<0.4,>=0.1.125->langchain-community<0.4.0,>=0.3.0->langchain_experimental) (3.10.18)\n",
            "Requirement already satisfied: requests-toolbelt<2.0.0,>=1.0.0 in /usr/local/lib/python3.11/dist-packages (from langsmith<0.4,>=0.1.125->langchain-community<0.4.0,>=0.3.0->langchain_experimental) (1.0.0)\n",
            "Requirement already satisfied: zstandard<0.24.0,>=0.23.0 in /usr/local/lib/python3.11/dist-packages (from langsmith<0.4,>=0.1.125->langchain-community<0.4.0,>=0.3.0->langchain_experimental) (0.23.0)\n",
            "Requirement already satisfied: annotated-types>=0.6.0 in /usr/local/lib/python3.11/dist-packages (from pydantic>=2.7.4->langchain-core<0.4.0,>=0.3.28->langchain_experimental) (0.7.0)\n",
            "Requirement already satisfied: pydantic-core==2.33.2 in /usr/local/lib/python3.11/dist-packages (from pydantic>=2.7.4->langchain-core<0.4.0,>=0.3.28->langchain_experimental) (2.33.2)\n",
            "Requirement already satisfied: typing-inspection>=0.4.0 in /usr/local/lib/python3.11/dist-packages (from pydantic>=2.7.4->langchain-core<0.4.0,>=0.3.28->langchain_experimental) (0.4.1)\n",
            "Collecting python-dotenv>=0.21.0 (from pydantic-settings<3.0.0,>=2.4.0->langchain-community<0.4.0,>=0.3.0->langchain_experimental)\n",
            "  Downloading python_dotenv-1.1.0-py3-none-any.whl.metadata (24 kB)\n",
            "Requirement already satisfied: charset-normalizer<4,>=2 in /usr/local/lib/python3.11/dist-packages (from requests<3,>=2->langchain-community<0.4.0,>=0.3.0->langchain_experimental) (3.4.2)\n",
            "Requirement already satisfied: idna<4,>=2.5 in /usr/local/lib/python3.11/dist-packages (from requests<3,>=2->langchain-community<0.4.0,>=0.3.0->langchain_experimental) (3.10)\n",
            "Requirement already satisfied: urllib3<3,>=1.21.1 in /usr/local/lib/python3.11/dist-packages (from requests<3,>=2->langchain-community<0.4.0,>=0.3.0->langchain_experimental) (2.4.0)\n",
            "Requirement already satisfied: certifi>=2017.4.17 in /usr/local/lib/python3.11/dist-packages (from requests<3,>=2->langchain-community<0.4.0,>=0.3.0->langchain_experimental) (2025.4.26)\n",
            "Requirement already satisfied: greenlet>=1 in /usr/local/lib/python3.11/dist-packages (from SQLAlchemy<3,>=1.4->langchain-community<0.4.0,>=0.3.0->langchain_experimental) (3.2.2)\n",
            "Requirement already satisfied: anyio in /usr/local/lib/python3.11/dist-packages (from httpx<1,>=0.23.0->langsmith<0.4,>=0.1.125->langchain-community<0.4.0,>=0.3.0->langchain_experimental) (4.9.0)\n",
            "Requirement already satisfied: httpcore==1.* in /usr/local/lib/python3.11/dist-packages (from httpx<1,>=0.23.0->langsmith<0.4,>=0.1.125->langchain-community<0.4.0,>=0.3.0->langchain_experimental) (1.0.9)\n",
            "Requirement already satisfied: h11>=0.16 in /usr/local/lib/python3.11/dist-packages (from httpcore==1.*->httpx<1,>=0.23.0->langsmith<0.4,>=0.1.125->langchain-community<0.4.0,>=0.3.0->langchain_experimental) (0.16.0)\n",
            "Collecting mypy-extensions>=0.3.0 (from typing-inspect<1,>=0.4.0->dataclasses-json<0.7,>=0.5.7->langchain-community<0.4.0,>=0.3.0->langchain_experimental)\n",
            "  Downloading mypy_extensions-1.1.0-py3-none-any.whl.metadata (1.1 kB)\n",
            "Requirement already satisfied: sniffio>=1.1 in /usr/local/lib/python3.11/dist-packages (from anyio->httpx<1,>=0.23.0->langsmith<0.4,>=0.1.125->langchain-community<0.4.0,>=0.3.0->langchain_experimental) (1.3.1)\n",
            "Downloading langchain_experimental-0.3.4-py3-none-any.whl (209 kB)\n",
            "\u001b[2K   \u001b[90m━━━━━━━━━━━━━━━━━━━━━━━━━━━━━━━━━━━━━━━━\u001b[0m \u001b[32m209.2/209.2 kB\u001b[0m \u001b[31m6.1 MB/s\u001b[0m eta \u001b[36m0:00:00\u001b[0m\n",
            "\u001b[?25hDownloading langchain_community-0.3.24-py3-none-any.whl (2.5 MB)\n",
            "\u001b[2K   \u001b[90m━━━━━━━━━━━━━━━━━━━━━━━━━━━━━━━━━━━━━━━━\u001b[0m \u001b[32m2.5/2.5 MB\u001b[0m \u001b[31m45.2 MB/s\u001b[0m eta \u001b[36m0:00:00\u001b[0m\n",
            "\u001b[?25hDownloading dataclasses_json-0.6.7-py3-none-any.whl (28 kB)\n",
            "Downloading httpx_sse-0.4.0-py3-none-any.whl (7.8 kB)\n",
            "Downloading pydantic_settings-2.9.1-py3-none-any.whl (44 kB)\n",
            "\u001b[2K   \u001b[90m━━━━━━━━━━━━━━━━━━━━━━━━━━━━━━━━━━━━━━━━\u001b[0m \u001b[32m44.4/44.4 kB\u001b[0m \u001b[31m3.1 MB/s\u001b[0m eta \u001b[36m0:00:00\u001b[0m\n",
            "\u001b[?25hDownloading marshmallow-3.26.1-py3-none-any.whl (50 kB)\n",
            "\u001b[2K   \u001b[90m━━━━━━━━━━━━━━━━━━━━━━━━━━━━━━━━━━━━━━━━\u001b[0m \u001b[32m50.9/50.9 kB\u001b[0m \u001b[31m3.8 MB/s\u001b[0m eta \u001b[36m0:00:00\u001b[0m\n",
            "\u001b[?25hDownloading python_dotenv-1.1.0-py3-none-any.whl (20 kB)\n",
            "Downloading typing_inspect-0.9.0-py3-none-any.whl (8.8 kB)\n",
            "Downloading mypy_extensions-1.1.0-py3-none-any.whl (5.0 kB)\n",
            "Installing collected packages: python-dotenv, mypy-extensions, marshmallow, httpx-sse, typing-inspect, pydantic-settings, dataclasses-json, langchain-community, langchain_experimental\n",
            "Successfully installed dataclasses-json-0.6.7 httpx-sse-0.4.0 langchain-community-0.3.24 langchain_experimental-0.3.4 marshmallow-3.26.1 mypy-extensions-1.1.0 pydantic-settings-2.9.1 python-dotenv-1.1.0 typing-inspect-0.9.0\n",
            "Collecting langchain_openai\n",
            "  Downloading langchain_openai-0.3.21-py3-none-any.whl.metadata (2.3 kB)\n",
            "Collecting langchain-core<1.0.0,>=0.3.64 (from langchain_openai)\n",
            "  Downloading langchain_core-0.3.64-py3-none-any.whl.metadata (5.8 kB)\n",
            "Requirement already satisfied: openai<2.0.0,>=1.68.2 in /usr/local/lib/python3.11/dist-packages (from langchain_openai) (1.84.0)\n",
            "Requirement already satisfied: tiktoken<1,>=0.7 in /usr/local/lib/python3.11/dist-packages (from langchain_openai) (0.9.0)\n",
            "Collecting langsmith<0.4,>=0.3.45 (from langchain-core<1.0.0,>=0.3.64->langchain_openai)\n",
            "  Downloading langsmith-0.3.45-py3-none-any.whl.metadata (15 kB)\n",
            "Requirement already satisfied: tenacity!=8.4.0,<10.0.0,>=8.1.0 in /usr/local/lib/python3.11/dist-packages (from langchain-core<1.0.0,>=0.3.64->langchain_openai) (9.1.2)\n",
            "Requirement already satisfied: jsonpatch<2.0,>=1.33 in /usr/local/lib/python3.11/dist-packages (from langchain-core<1.0.0,>=0.3.64->langchain_openai) (1.33)\n",
            "Requirement already satisfied: PyYAML>=5.3 in /usr/local/lib/python3.11/dist-packages (from langchain-core<1.0.0,>=0.3.64->langchain_openai) (6.0.2)\n",
            "Requirement already satisfied: packaging<25,>=23.2 in /usr/local/lib/python3.11/dist-packages (from langchain-core<1.0.0,>=0.3.64->langchain_openai) (24.2)\n",
            "Requirement already satisfied: typing-extensions>=4.7 in /usr/local/lib/python3.11/dist-packages (from langchain-core<1.0.0,>=0.3.64->langchain_openai) (4.14.0)\n",
            "Requirement already satisfied: pydantic>=2.7.4 in /usr/local/lib/python3.11/dist-packages (from langchain-core<1.0.0,>=0.3.64->langchain_openai) (2.11.5)\n",
            "Requirement already satisfied: anyio<5,>=3.5.0 in /usr/local/lib/python3.11/dist-packages (from openai<2.0.0,>=1.68.2->langchain_openai) (4.9.0)\n",
            "Requirement already satisfied: distro<2,>=1.7.0 in /usr/local/lib/python3.11/dist-packages (from openai<2.0.0,>=1.68.2->langchain_openai) (1.9.0)\n",
            "Requirement already satisfied: httpx<1,>=0.23.0 in /usr/local/lib/python3.11/dist-packages (from openai<2.0.0,>=1.68.2->langchain_openai) (0.28.1)\n",
            "Requirement already satisfied: jiter<1,>=0.4.0 in /usr/local/lib/python3.11/dist-packages (from openai<2.0.0,>=1.68.2->langchain_openai) (0.10.0)\n",
            "Requirement already satisfied: sniffio in /usr/local/lib/python3.11/dist-packages (from openai<2.0.0,>=1.68.2->langchain_openai) (1.3.1)\n",
            "Requirement already satisfied: tqdm>4 in /usr/local/lib/python3.11/dist-packages (from openai<2.0.0,>=1.68.2->langchain_openai) (4.67.1)\n",
            "Requirement already satisfied: regex>=2022.1.18 in /usr/local/lib/python3.11/dist-packages (from tiktoken<1,>=0.7->langchain_openai) (2024.11.6)\n",
            "Requirement already satisfied: requests>=2.26.0 in /usr/local/lib/python3.11/dist-packages (from tiktoken<1,>=0.7->langchain_openai) (2.32.3)\n",
            "Requirement already satisfied: idna>=2.8 in /usr/local/lib/python3.11/dist-packages (from anyio<5,>=3.5.0->openai<2.0.0,>=1.68.2->langchain_openai) (3.10)\n",
            "Requirement already satisfied: certifi in /usr/local/lib/python3.11/dist-packages (from httpx<1,>=0.23.0->openai<2.0.0,>=1.68.2->langchain_openai) (2025.4.26)\n",
            "Requirement already satisfied: httpcore==1.* in /usr/local/lib/python3.11/dist-packages (from httpx<1,>=0.23.0->openai<2.0.0,>=1.68.2->langchain_openai) (1.0.9)\n",
            "Requirement already satisfied: h11>=0.16 in /usr/local/lib/python3.11/dist-packages (from httpcore==1.*->httpx<1,>=0.23.0->openai<2.0.0,>=1.68.2->langchain_openai) (0.16.0)\n",
            "Requirement already satisfied: jsonpointer>=1.9 in /usr/local/lib/python3.11/dist-packages (from jsonpatch<2.0,>=1.33->langchain-core<1.0.0,>=0.3.64->langchain_openai) (3.0.0)\n",
            "Requirement already satisfied: orjson<4.0.0,>=3.9.14 in /usr/local/lib/python3.11/dist-packages (from langsmith<0.4,>=0.3.45->langchain-core<1.0.0,>=0.3.64->langchain_openai) (3.10.18)\n",
            "Requirement already satisfied: requests-toolbelt<2.0.0,>=1.0.0 in /usr/local/lib/python3.11/dist-packages (from langsmith<0.4,>=0.3.45->langchain-core<1.0.0,>=0.3.64->langchain_openai) (1.0.0)\n",
            "Requirement already satisfied: zstandard<0.24.0,>=0.23.0 in /usr/local/lib/python3.11/dist-packages (from langsmith<0.4,>=0.3.45->langchain-core<1.0.0,>=0.3.64->langchain_openai) (0.23.0)\n",
            "Requirement already satisfied: annotated-types>=0.6.0 in /usr/local/lib/python3.11/dist-packages (from pydantic>=2.7.4->langchain-core<1.0.0,>=0.3.64->langchain_openai) (0.7.0)\n",
            "Requirement already satisfied: pydantic-core==2.33.2 in /usr/local/lib/python3.11/dist-packages (from pydantic>=2.7.4->langchain-core<1.0.0,>=0.3.64->langchain_openai) (2.33.2)\n",
            "Requirement already satisfied: typing-inspection>=0.4.0 in /usr/local/lib/python3.11/dist-packages (from pydantic>=2.7.4->langchain-core<1.0.0,>=0.3.64->langchain_openai) (0.4.1)\n",
            "Requirement already satisfied: charset-normalizer<4,>=2 in /usr/local/lib/python3.11/dist-packages (from requests>=2.26.0->tiktoken<1,>=0.7->langchain_openai) (3.4.2)\n",
            "Requirement already satisfied: urllib3<3,>=1.21.1 in /usr/local/lib/python3.11/dist-packages (from requests>=2.26.0->tiktoken<1,>=0.7->langchain_openai) (2.4.0)\n",
            "Downloading langchain_openai-0.3.21-py3-none-any.whl (65 kB)\n",
            "\u001b[2K   \u001b[90m━━━━━━━━━━━━━━━━━━━━━━━━━━━━━━━━━━━━━━━━\u001b[0m \u001b[32m65.2/65.2 kB\u001b[0m \u001b[31m2.0 MB/s\u001b[0m eta \u001b[36m0:00:00\u001b[0m\n",
            "\u001b[?25hDownloading langchain_core-0.3.64-py3-none-any.whl (438 kB)\n",
            "\u001b[2K   \u001b[90m━━━━━━━━━━━━━━━━━━━━━━━━━━━━━━━━━━━━━━━━\u001b[0m \u001b[32m438.1/438.1 kB\u001b[0m \u001b[31m10.3 MB/s\u001b[0m eta \u001b[36m0:00:00\u001b[0m\n",
            "\u001b[?25hDownloading langsmith-0.3.45-py3-none-any.whl (363 kB)\n",
            "\u001b[2K   \u001b[90m━━━━━━━━━━━━━━━━━━━━━━━━━━━━━━━━━━━━━━━━\u001b[0m \u001b[32m363.0/363.0 kB\u001b[0m \u001b[31m24.5 MB/s\u001b[0m eta \u001b[36m0:00:00\u001b[0m\n",
            "\u001b[?25hInstalling collected packages: langsmith, langchain-core, langchain_openai\n",
            "  Attempting uninstall: langsmith\n",
            "    Found existing installation: langsmith 0.3.44\n",
            "    Uninstalling langsmith-0.3.44:\n",
            "      Successfully uninstalled langsmith-0.3.44\n",
            "  Attempting uninstall: langchain-core\n",
            "    Found existing installation: langchain-core 0.3.63\n",
            "    Uninstalling langchain-core-0.3.63:\n",
            "      Successfully uninstalled langchain-core-0.3.63\n",
            "Successfully installed langchain-core-0.3.64 langchain_openai-0.3.21 langsmith-0.3.45\n",
            "Collecting pyvis\n",
            "  Downloading pyvis-0.3.2-py3-none-any.whl.metadata (1.7 kB)\n",
            "Requirement already satisfied: ipython>=5.3.0 in /usr/local/lib/python3.11/dist-packages (from pyvis) (7.34.0)\n",
            "Requirement already satisfied: jinja2>=2.9.6 in /usr/local/lib/python3.11/dist-packages (from pyvis) (3.1.6)\n",
            "Requirement already satisfied: jsonpickle>=1.4.1 in /usr/local/lib/python3.11/dist-packages (from pyvis) (4.1.1)\n",
            "Requirement already satisfied: networkx>=1.11 in /usr/local/lib/python3.11/dist-packages (from pyvis) (3.5)\n",
            "Requirement already satisfied: setuptools>=18.5 in /usr/local/lib/python3.11/dist-packages (from ipython>=5.3.0->pyvis) (75.2.0)\n",
            "Collecting jedi>=0.16 (from ipython>=5.3.0->pyvis)\n",
            "  Downloading jedi-0.19.2-py2.py3-none-any.whl.metadata (22 kB)\n",
            "Requirement already satisfied: decorator in /usr/local/lib/python3.11/dist-packages (from ipython>=5.3.0->pyvis) (4.4.2)\n",
            "Requirement already satisfied: pickleshare in /usr/local/lib/python3.11/dist-packages (from ipython>=5.3.0->pyvis) (0.7.5)\n",
            "Requirement already satisfied: traitlets>=4.2 in /usr/local/lib/python3.11/dist-packages (from ipython>=5.3.0->pyvis) (5.7.1)\n",
            "Requirement already satisfied: prompt-toolkit!=3.0.0,!=3.0.1,<3.1.0,>=2.0.0 in /usr/local/lib/python3.11/dist-packages (from ipython>=5.3.0->pyvis) (3.0.51)\n",
            "Requirement already satisfied: pygments in /usr/local/lib/python3.11/dist-packages (from ipython>=5.3.0->pyvis) (2.19.1)\n",
            "Requirement already satisfied: backcall in /usr/local/lib/python3.11/dist-packages (from ipython>=5.3.0->pyvis) (0.2.0)\n",
            "Requirement already satisfied: matplotlib-inline in /usr/local/lib/python3.11/dist-packages (from ipython>=5.3.0->pyvis) (0.1.7)\n",
            "Requirement already satisfied: pexpect>4.3 in /usr/local/lib/python3.11/dist-packages (from ipython>=5.3.0->pyvis) (4.9.0)\n",
            "Requirement already satisfied: MarkupSafe>=2.0 in /usr/local/lib/python3.11/dist-packages (from jinja2>=2.9.6->pyvis) (3.0.2)\n",
            "Requirement already satisfied: parso<0.9.0,>=0.8.4 in /usr/local/lib/python3.11/dist-packages (from jedi>=0.16->ipython>=5.3.0->pyvis) (0.8.4)\n",
            "Requirement already satisfied: ptyprocess>=0.5 in /usr/local/lib/python3.11/dist-packages (from pexpect>4.3->ipython>=5.3.0->pyvis) (0.7.0)\n",
            "Requirement already satisfied: wcwidth in /usr/local/lib/python3.11/dist-packages (from prompt-toolkit!=3.0.0,!=3.0.1,<3.1.0,>=2.0.0->ipython>=5.3.0->pyvis) (0.2.13)\n",
            "Downloading pyvis-0.3.2-py3-none-any.whl (756 kB)\n",
            "\u001b[2K   \u001b[90m━━━━━━━━━━━━━━━━━━━━━━━━━━━━━━━━━━━━━━━━\u001b[0m \u001b[32m756.0/756.0 kB\u001b[0m \u001b[31m12.3 MB/s\u001b[0m eta \u001b[36m0:00:00\u001b[0m\n",
            "\u001b[?25hDownloading jedi-0.19.2-py2.py3-none-any.whl (1.6 MB)\n",
            "\u001b[2K   \u001b[90m━━━━━━━━━━━━━━━━━━━━━━━━━━━━━━━━━━━━━━━━\u001b[0m \u001b[32m1.6/1.6 MB\u001b[0m \u001b[31m56.1 MB/s\u001b[0m eta \u001b[36m0:00:00\u001b[0m\n",
            "\u001b[?25hInstalling collected packages: jedi, pyvis\n",
            "Successfully installed jedi-0.19.2 pyvis-0.3.2\n"
          ]
        }
      ]
    },
    {
      "cell_type": "code",
      "execution_count": null,
      "metadata": {
        "id": "Mfe7Q3sEy3Hn"
      },
      "outputs": [],
      "source": [
        "from langchain_experimental.graph_transformers import LLMGraphTransformer\n",
        "from langchain_core.documents import Document\n",
        "from langchain_openai import ChatOpenAI\n",
        "from pyvis.network import Network\n",
        "\n",
        "from dotenv import load_dotenv\n",
        "import os\n",
        "import asyncio"
      ]
    },
    {
      "cell_type": "code",
      "source": [
        "!pip install azure-ai-inference azure-core"
      ],
      "metadata": {
        "colab": {
          "base_uri": "https://localhost:8080/"
        },
        "id": "rwAp7rpFzB5l",
        "outputId": "f6de80f3-b0dd-49f5-f1bc-fdc16eafe0d3"
      },
      "execution_count": null,
      "outputs": [
        {
          "output_type": "stream",
          "name": "stdout",
          "text": [
            "Collecting azure-ai-inference\n",
            "  Downloading azure_ai_inference-1.0.0b9-py3-none-any.whl.metadata (34 kB)\n",
            "Collecting azure-core\n",
            "  Downloading azure_core-1.34.0-py3-none-any.whl.metadata (42 kB)\n",
            "\u001b[2K     \u001b[90m━━━━━━━━━━━━━━━━━━━━━━━━━━━━━━━━━━━━━━━━\u001b[0m \u001b[32m42.9/42.9 kB\u001b[0m \u001b[31m1.7 MB/s\u001b[0m eta \u001b[36m0:00:00\u001b[0m\n",
            "\u001b[?25hCollecting isodate>=0.6.1 (from azure-ai-inference)\n",
            "  Downloading isodate-0.7.2-py3-none-any.whl.metadata (11 kB)\n",
            "Requirement already satisfied: typing-extensions>=4.6.0 in /usr/local/lib/python3.11/dist-packages (from azure-ai-inference) (4.14.0)\n",
            "Requirement already satisfied: requests>=2.21.0 in /usr/local/lib/python3.11/dist-packages (from azure-core) (2.32.3)\n",
            "Requirement already satisfied: six>=1.11.0 in /usr/local/lib/python3.11/dist-packages (from azure-core) (1.17.0)\n",
            "Requirement already satisfied: charset-normalizer<4,>=2 in /usr/local/lib/python3.11/dist-packages (from requests>=2.21.0->azure-core) (3.4.2)\n",
            "Requirement already satisfied: idna<4,>=2.5 in /usr/local/lib/python3.11/dist-packages (from requests>=2.21.0->azure-core) (3.10)\n",
            "Requirement already satisfied: urllib3<3,>=1.21.1 in /usr/local/lib/python3.11/dist-packages (from requests>=2.21.0->azure-core) (2.4.0)\n",
            "Requirement already satisfied: certifi>=2017.4.17 in /usr/local/lib/python3.11/dist-packages (from requests>=2.21.0->azure-core) (2025.4.26)\n",
            "Downloading azure_ai_inference-1.0.0b9-py3-none-any.whl (124 kB)\n",
            "\u001b[2K   \u001b[90m━━━━━━━━━━━━━━━━━━━━━━━━━━━━━━━━━━━━━━━━\u001b[0m \u001b[32m124.9/124.9 kB\u001b[0m \u001b[31m4.5 MB/s\u001b[0m eta \u001b[36m0:00:00\u001b[0m\n",
            "\u001b[?25hDownloading azure_core-1.34.0-py3-none-any.whl (207 kB)\n",
            "\u001b[2K   \u001b[90m━━━━━━━━━━━━━━━━━━━━━━━━━━━━━━━━━━━━━━━━\u001b[0m \u001b[32m207.4/207.4 kB\u001b[0m \u001b[31m9.0 MB/s\u001b[0m eta \u001b[36m0:00:00\u001b[0m\n",
            "\u001b[?25hDownloading isodate-0.7.2-py3-none-any.whl (22 kB)\n",
            "Installing collected packages: isodate, azure-core, azure-ai-inference\n",
            "Successfully installed azure-ai-inference-1.0.0b9 azure-core-1.34.0 isodate-0.7.2\n"
          ]
        }
      ]
    },
    {
      "cell_type": "code",
      "source": [
        "import os\n",
        "from azure.ai.inference import ChatCompletionsClient\n",
        "from azure.ai.inference.models import SystemMessage, UserMessage\n",
        "from azure.core.credentials import AzureKeyCredential"
      ],
      "metadata": {
        "id": "qDPQwOyWzSLa"
      },
      "execution_count": null,
      "outputs": []
    },
    {
      "cell_type": "code",
      "source": [
        "from google.colab import userdata\n",
        "\n",
        "# Access the secret as an environment variable\n",
        "os.environ[\"GITHUB_TOKEN\"] = userdata.get('GITHUB_TOKEN')\n",
        "endpoint = \"https://models.github.ai/inference\"\n",
        "model = \"openai/gpt-4.1\"\n",
        "token = os.environ[\"GITHUB_TOKEN\"]"
      ],
      "metadata": {
        "id": "a2kfOL-i1KDq"
      },
      "execution_count": null,
      "outputs": []
    },
    {
      "cell_type": "code",
      "source": [
        "client = ChatCompletionsClient(\n",
        "    endpoint=endpoint,\n",
        "    credential=AzureKeyCredential(token),\n",
        ")\n",
        "\n",
        "response = client.complete(\n",
        "    messages=[\n",
        "        SystemMessage(\"\"),\n",
        "        UserMessage(\"Who is Kuyayky?\"),\n",
        "    ],\n",
        "    temperature=1,\n",
        "    top_p=1,\n",
        "    model=model\n",
        ")\n",
        "\n",
        "print(response.choices[0].message.content)"
      ],
      "metadata": {
        "colab": {
          "base_uri": "https://localhost:8080/"
        },
        "id": "EzLUxAHv2_Jg",
        "outputId": "09672f00-2733-49c0-d762-3645fb44be5d"
      },
      "execution_count": null,
      "outputs": [
        {
          "output_type": "stream",
          "name": "stdout",
          "text": [
            "**Kuyayky** is a renowned Peruvian music group and cultural organization known for their dedication to the preservation, promotion, and innovation of traditional Andean and Latin American music. Founded in Jauja, Peru in the late 1980s, Kuyayky has played a significant role in revitalizing and popularizing the musical heritage of the central Andes, especially the music of the Mantaro Valley and the central Peruvian highlands.\n",
            "\n",
            "The word **\"Kuyayky\"** comes from the Quechua language, meaning \"I love you.\" \n",
            "\n",
            "### Key facts about Kuyayky:\n",
            "\n",
            "- **Founding Members:** Originally formed by the Castro and Gálvez families, with sisters Rubi, Maricruz, then joined by younger siblings, it is now led by the next generation, including the musicologist and researcher Corina Bartra Castro.\n",
            "- **Musical Style:** Their repertoire draws from traditional Andean, Huayno, Muliza, and other genres native to central Peru, blending them with contemporary influences.\n",
            "- **Distinctive Features:** Kuyayky is known for its authentic instrumentation (charango, quena, guitar, violin, harp, etc.), rich vocal harmonies, and scholarly reconstructions of historical Andean music.\n",
            "- **Cultural Work:** Beyond performing, Kuyayky emphasizes research, cultural preservation, and education, often working with archives and leading workshops.\n",
            "- **International Presence:** The group has performed worldwide, based at times in Peru and the United States.\n",
            "- **Kuyayky Foundation:** They operate a non-profit cultural organization—**the Kuyayky Foundation**—which focuses on music education, preservation, and cultural projects in Peru and the Americas.\n",
            "\n",
            "Through their music and activism, Kuyayky continues to contribute significantly to the appreciation and continuity of Andean musical traditions, both in Peru and internationally.\n"
          ]
        }
      ]
    },
    {
      "cell_type": "code",
      "source": [
        "#llm_instance = ChatOpenAI(model=model, api_key=token, endpoint='https://models.github.ai/inference')\n",
        "llm_instance = ChatOpenAI(model=model, api_key=token, base_url='https://models.github.ai/inference')\n",
        "graph_transformer = LLMGraphTransformer(llm=llm_instance)\n"
      ],
      "metadata": {
        "id": "oq4kdciW41gS"
      },
      "execution_count": null,
      "outputs": []
    },
    {
      "cell_type": "code",
      "source": [
        "text = \"\"\"Bringing a new dialogue between outstanding creators and innovators from Andean regions and renowned scientists, programmers, and artists from abroad- through conferences and workshops\n",
        "01/21/2013  @9:30am at 11,200ft above sea level, in the small town of Yauyos-Jauja (Peru) in our Kuyayky Wasi\n",
        "00:00:00 Ruben Condori welcomes everyone to the initiative, which aims to unite scientists, technology workers, and artists. Yina Hurtado shares the Hurtado Bonilla family background, detailing their journey from Peru to the United States in 1993, bringing their music and culture with them. They founded the Kuyayky Foundation to support Andean artists from Peru and launched various projects, including an app called Iman Chay to learn Quechua. In 2014, they established the Orquesta de Niños de Cuya in Jauja, Peru, integrating science, art, technology, and culture into their work. Kuyayky Start Labs aims to be a bridge between people in diverse fields, facilitating knowledge exchange and inspiring young people.\n",
        "\n",
        "00:05:00 Ruben Condori elaborates on the mission of Kuyayky StartLabs in both Spanish and Quechua. The organization's goal is to promote science, technology, and arts among Andean youth by fostering dialogue between local creators and innovators, and renowned scientists, programmers, and artists from abroad. Conferences and workshops encourage the development of projects with a focus on identity and the environment.\n",
        "\n",
        "00:07:30 Benjamin Ordoñez, a member of the orchestra and a scientist-farmer, is introduced. He lives in Mantaro and has developed a sustainable home using solar panels and a quipo for water recycling. The community grows traditional crops such as maize, potatoes, and quinoa, which are culturally significant. Ordoñez asks the audience if music, such as a song or melody, can influence their mood or emotions, encouraging those who agree to raise their hands. He explains music's powerful emotional impact, citing \"La tropa de Cáceres,\" a song from the Chilean invasion era about their famous general and brujo, Andrino Cáceres.\n",
        "\n",
        "00:14:47 Contactless Thermometer Demonstration.\n",
        "\n",
        "00:21:39 Carlos Arguelles discusses his various scientific projects, including work in particle physics and neutrinos.\n",
        "\n",
        "00:30:00 The speaker discusses the Antarctic observatory and the detection of neutrinos using ice. The observatory, located in Antarctica, employs drills to create holes in the ice up to 2 km deep and 1.2 meters wide.\n",
        "\n",
        "00:35:37 Carlos Arguelles fields questions about his research on spacetime bending due to black hole fusion and the complementary data obtained.\n",
        "\n",
        "00:36:25 Carlos addresses the applications of his neutrino research, noting that the computational methods developed for large data processing could benefit tech companies and highlighting the potential of quantum computing.\n",
        "\n",
        "00:40:00 Carlos discusses plans to build a neutrino observatory in the Colca Valley, Peru.\n",
        "\n",
        "00:40:54 Carlos shares his personal journey in finding his scientific path.\n",
        "\n",
        "00:41:53 Carlos answers why neutrino research takes place at the South Pole, explaining that while elements in the universe can be identified, their interactions are often random.\n",
        "\n",
        "00:46:23 Question on quantum computing.\n",
        "\n",
        "00:45:00 Carlos explains the probabilistic nature of particle interactions in quantum physics.\n",
        "\n",
        "00:50:00 Carlos discusses quantum computers' applications, specifically focusing on data compression.\n",
        "\n",
        "00:54:32 Presenters thank Carlos for his participation in both Spanish and Quechua.\n",
        "\n",
        "00:55:00 Heidy Yupan Bonilla, a Peruvian developer, is introduced.\n",
        "\n",
        "1:04:00 Omar Flores.\n",
        "\n",
        "1:05:20 Milagros Melgar.\n",
        "\n",
        "1:08:00 Ayachucho-based CiaRose expresses their desire to break the centralization of high-quality audiovisual production.\n",
        "\n",
        "01:25:00 Enriquez Condori from Huancavelica, Peru, shares his experience of starting a YouTube channel, Quechua Studio, to teach and promote the Quechua language.Justo cuando Jauja comenzaba eufórica la fiesta de la Tunantada en el 2023,  a poca distancia de la Plaza 20 de Enero, se inauguraba en Yauyos el Kuyayky START Labs, un laboratorio de Ciencia, Tecnología y Arte en el local de la Fundación Kuyayky cerca de la cancha deportiva comunitaria, conocida como “La Bombonera”. La idea comenzó cuando, durante el encierro de la pandemia, la Ingeniera de Sistemas Yina Hurtado Bonilla, junto a los también ingenieros de sistemas- su esposo, David Villegas y su hermano Jose Hurtado y sus pequeñas hijas, Lila y Paz, habían empezado a diseñar el aplicativo “Iman Chay” para aprender Quechua.\n",
        "“Cuando lanzamos el aplicativo nos llamaron  de la radio y la televisión para hacer reportajes y entrevistas de Perú y el extranjero, y también nos contactaron maestros de diversos sitios y nos dimos cuenta que había un interés en la tecnología y que era importante crear espacios para incentivar no solo el consumo de la tecnología sino también el estudio de la ciencia junto con el arte entre los niños, jóvenes, para que ellos mismos puedan idear y concretar proyectos de ciencia, tecnología y arte como ya lo veníamos haciendo en Kuyayky,” recuerda Yina Hurtado.\n",
        "Para programar el aplicativo “Iman Chay” (¿Qué es esto?), el doctor en ingeniería David Villegas utilizó React Native, un framework del lenguaje de computación JavaScript. La ingeniera y diseñadora Yina Hurtado usó Premiere Pro para incluir el arte de los dibujos hechos a mano por sus hijas y otros niños en el aplicativo y el doctor en ingeniería Jose Luis Hurtado Bonilla contribuyó con la programación pero también con la composición de la música que se usaría en el aplicativo.\n",
        "Mientras en el fondo se escuchaba la música de las orquestas de la Tunantada, la tarde del 21 de enero del 2023,  el lanzamiento del Laboratorio Kuyayky START Labs, tuvo como principal invitado al Catedrático en Física de la Universidad de Harvard Carlos Arguelles, quien se conectó virtualmente desde Boston para hablar con los niños y jóvenes asistentes al local de Kuyayky en Yauyos. Arguelles, quien es el primer peruano que enseña física en Harvard, presentó su investigación de los neutrinos, unas partículas subatómicas, que son indivisibles, de carga neutra y que pueden viajar libremente por el universo. Y aunque pocos de los asistentes quizás conocían de los neutrinos, durante la charla de Arguelles, se enteraron de que todos estamos expuestos a ellos. Producidos por fuentes como el sol o los rayos cósmicos, unos 40 mil millones de neutrinos, están atravesando nuestro dedo pulgar en cualquier momento. El entendimiento de los neutrinos es muy importante para la comprensión del universo.  Otros de los ponentes incluyeron al joven Benjamin Ordonez quien presentó sus proyectos como un termómetro remoto que construyó en Jauja durante la pandemia y cómo concretó una casa autosostenible en el distrito de El Mantaro donde junto a su padre usando la tecnología de paneles solares para proveerse de luz, manejar las temperaturas de sus sembríos con canales y tratar las aguas servidas.\n",
        "En julio de ese mismo año se iniciaron los talleres del START Labs con la productora Ayacuchana Ciarose, quien hizo un taller de audiovisuales para niños y jóvenes que concluyó con la producción de tres cortometrajes. También incluyó la exposición de la Ingeniera en Biotecnología Adriana Cespedes de la Universidad Northeastern y quien tiene raíces en el distrito de Muquiyauyo, Jauja  y de Andahuaylas, Apurimac. La ponencia de la ingeniería Cespedes se enfocó en su trabajo de investigación en Boston conocido como  “órgano en un chip” y que intenta modelar órganos del cuerpo humano, como el pulmón o el hígado en un chip hecho de un tipo de silicona con diferentes canales y flujos  y que es biocompatible con las células humanas. Su trabajo explicó ayudará a que se pueda probar los medicamentos en estos modelos. Anthony Fernandez de Cloud Computing y una comparación con los quipus\n",
        "La segunda edición de los laboratorios de Kuyayky START Labs en el año 2024, incluyó la presentación de la artista peruano-estadounidense Lucia Morales quien llevó a Jauja su trabajo artístico itinerante “Sinpay.” Este proyecto comunitario que había visitado Chicago previamente consistia en que los participantes le ayuden a trenzar a la artista desde su cabeza, hasta una distancia de 50 metros, y decorar este cabello artificial largo con flores y cintas de colores mientras formaban una comunidad y reflexionaban sobre la herencia, la familia y sus propias historias.  El arquitecto Christian Lopez quien ha diseñado varios rascacielos en Miami incluyendo el icónico edificio “One Thousand Museum” como parte de la firma de la famosa arquitecta Zaha Hadid basada en Londres, presentó una autocrítica  reflexión sobre la sostenibilidad en su industria e invitó a repensar lo sustentable y a evitar que se cometan los errores en el uso del medio-ambiente como se hace en los llamados países desarrollados.\n",
        "Desde el Insituto Post-Doctoral Zuckerman de la Universidad de Columbia, el Doctor en neurociencia,  Eddy Albarran presento vía virtual su ponencia sobre  actividad neuronal y el medio ambiente su investigacion se centra en la neurobiologia del aprendizaje por reforzamiento\n",
        "Amy Chalan Futurismo e Interseccionalidad Indigena, Omar Aguilar Arqueologia sobre los Codices Mayas Max Villagary y Enoch Loayza\n",
        "Stephanie Lage Doctora en Neurobiologia y Neurociencia Sobre las Abejas y la Biocomputacion\n",
        "\n",
        "\"\"\""
      ],
      "metadata": {
        "id": "9sf4kONj5yiN"
      },
      "execution_count": null,
      "outputs": []
    },
    {
      "cell_type": "code",
      "source": [
        "text"
      ],
      "metadata": {
        "colab": {
          "base_uri": "https://localhost:8080/",
          "height": 238
        },
        "id": "2Ia7hilwaKrm",
        "outputId": "385adada-a59e-4a07-d049-d17f0b7e3b9a"
      },
      "execution_count": null,
      "outputs": [
        {
          "output_type": "execute_result",
          "data": {
            "text/plain": [
              "'Bringing a new dialogue between outstanding creators and innovators from Andean regions and renowned scientists, programmers, and artists from abroad- through conferences and workshops\\n01/21/2013  @9:30am at 11,200ft above sea level, in the small town of Yauyos-Jauja (Peru) in our Kuyayky Wasi\\n00:00:00 Ruben Condori welcomes everyone to the initiative, which aims to unite scientists, technology workers, and artists. Yina Hurtado shares the Hurtado Bonilla family background, detailing their journey from Peru to the United States in 1993, bringing their music and culture with them. They founded the Kuyayky Foundation to support Andean artists from Peru and launched various projects, including an app called Iman Chay to learn Quechua. In 2014, they established the Orquesta de Niños de Cuya in Jauja, Peru, integrating science, art, technology, and culture into their work. Kuyayky Start Labs aims to be a bridge between people in diverse fields, facilitating knowledge exchange and inspiring young people.\\n\\n00:05:00 Ruben Condori elaborates on the mission of Kuyayky StartLabs in both Spanish and Quechua. The organization\\'s goal is to promote science, technology, and arts among Andean youth by fostering dialogue between local creators and innovators, and renowned scientists, programmers, and artists from abroad. Conferences and workshops encourage the development of projects with a focus on identity and the environment.\\n\\n00:07:30 Benjamin Ordoñez, a member of the orchestra and a scientist-farmer, is introduced. He lives in Mantaro and has developed a sustainable home using solar panels and a quipo for water recycling. The community grows traditional crops such as maize, potatoes, and quinoa, which are culturally significant. Ordoñez asks the audience if music, such as a song or melody, can influence their mood or emotions, encouraging those who agree to raise their hands. He explains music\\'s powerful emotional impact, citing \"La tropa de Cáceres,\" a song from the Chilean invasion era about their famous general and brujo, Andrino Cáceres.\\n\\n00:14:47 Contactless Thermometer Demonstration.\\n\\n00:21:39 Carlos Arguelles discusses his various scientific projects, including work in particle physics and neutrinos.\\n\\n00:30:00 The speaker discusses the Antarctic observatory and the detection of neutrinos using ice. The observatory, located in Antarctica, employs drills to create holes in the ice up to 2 km deep and 1.2 meters wide.\\n\\n00:35:37 Carlos Arguelles fields questions about his research on spacetime bending due to black hole fusion and the complementary data obtained.\\n\\n00:36:25 Carlos addresses the applications of his neutrino research, noting that the computational methods developed for large data processing could benefit tech companies and highlighting the potential of quantum computing.\\n\\n00:40:00 Carlos discusses plans to build a neutrino observatory in the Colca Valley, Peru.\\n\\n00:40:54 Carlos shares his personal journey in finding his scientific path.\\n\\n00:41:53 Carlos answers why neutrino research takes place at the South Pole, explaining that while elements in the universe can be identified, their interactions are often random.\\n\\n00:46:23 Question on quantum computing.\\n\\n00:45:00 Carlos explains the probabilistic nature of particle interactions in quantum physics.\\n\\n00:50:00 Carlos discusses quantum computers\\' applications, specifically focusing on data compression.\\n\\n00:54:32 Presenters thank Carlos for his participation in both Spanish and Quechua.\\n\\n00:55:00 Heidy Yupan Bonilla, a Peruvian developer, is introduced.\\n\\n1:04:00 Omar Flores.\\n\\n1:05:20 Milagros Melgar.\\n\\n1:08:00 Ayachucho-based CiaRose expresses their desire to break the centralization of high-quality audiovisual production.\\n\\n01:25:00 Enriquez Condori from Huancavelica, Peru, shares his experience of starting a YouTube channel, Quechua Studio, to teach and promote the Quechua language.Justo cuando Jauja comenzaba eufórica la fiesta de la Tunantada en el 2023,  a poca distancia de la Plaza 20 de Enero, se inauguraba en Yauyos el Kuyayky START Labs, un laboratorio de Ciencia, Tecnología y Arte en el local de la Fundación Kuyayky cerca de la cancha deportiva comunitaria, conocida como “La Bombonera”. La idea comenzó cuando, durante el encierro de la pandemia, la Ingeniera de Sistemas Yina Hurtado Bonilla, junto a los también ingenieros de sistemas- su esposo, David Villegas y su hermano Jose Hurtado y sus pequeñas hijas, Lila y Paz, habían empezado a diseñar el aplicativo “Iman Chay” para aprender Quechua. \\n“Cuando lanzamos el aplicativo nos llamaron  de la radio y la televisión para hacer reportajes y entrevistas de Perú y el extranjero, y también nos contactaron maestros de diversos sitios y nos dimos cuenta que había un interés en la tecnología y que era importante crear espacios para incentivar no solo el consumo de la tecnología sino también el estudio de la ciencia junto con el arte entre los niños, jóvenes, para que ellos mismos puedan idear y concretar proyectos de ciencia, tecnología y arte como ya lo veníamos haciendo en Kuyayky,” recuerda Yina Hurtado. \\nPara programar el aplicativo “Iman Chay” (¿Qué es esto?), el doctor en ingeniería David Villegas utilizó React Native, un framework del lenguaje de computación JavaScript. La ingeniera y diseñadora Yina Hurtado usó Premiere Pro para incluir el arte de los dibujos hechos a mano por sus hijas y otros niños en el aplicativo y el doctor en ingeniería Jose Luis Hurtado Bonilla contribuyó con la programación pero también con la composición de la música que se usaría en el aplicativo.\\nMientras en el fondo se escuchaba la música de las orquestas de la Tunantada, la tarde del 21 de enero del 2023,  el lanzamiento del Laboratorio Kuyayky START Labs, tuvo como principal invitado al Catedrático en Física de la Universidad de Harvard Carlos Arguelles, quien se conectó virtualmente desde Boston para hablar con los niños y jóvenes asistentes al local de Kuyayky en Yauyos. Arguelles, quien es el primer peruano que enseña física en Harvard, presentó su investigación de los neutrinos, unas partículas subatómicas, que son indivisibles, de carga neutra y que pueden viajar libremente por el universo. Y aunque pocos de los asistentes quizás conocían de los neutrinos, durante la charla de Arguelles, se enteraron de que todos estamos expuestos a ellos. Producidos por fuentes como el sol o los rayos cósmicos, unos 40 mil millones de neutrinos, están atravesando nuestro dedo pulgar en cualquier momento. El entendimiento de los neutrinos es muy importante para la comprensión del universo.  Otros de los ponentes incluyeron al joven Benjamin Ordonez quien presentó sus proyectos como un termómetro remoto que construyó en Jauja durante la pandemia y cómo concretó una casa autosostenible en el distrito de El Mantaro donde junto a su padre usando la tecnología de paneles solares para proveerse de luz, manejar las temperaturas de sus sembríos con canales y tratar las aguas servidas.\\nEn julio de ese mismo año se iniciaron los talleres del START Labs con la productora Ayacuchana Ciarose, quien hizo un taller de audiovisuales para niños y jóvenes que concluyó con la producción de tres cortometrajes. También incluyó la exposición de la Ingeniera en Biotecnología Adriana Cespedes de la Universidad Northeastern y quien tiene raíces en el distrito de Muquiyauyo, Jauja  y de Andahuaylas, Apurimac. La ponencia de la ingeniería Cespedes se enfocó en su trabajo de investigación en Boston conocido como  “órgano en un chip” y que intenta modelar órganos del cuerpo humano, como el pulmón o el hígado en un chip hecho de un tipo de silicona con diferentes canales y flujos  y que es biocompatible con las células humanas. Su trabajo explicó ayudará a que se pueda probar los medicamentos en estos modelos. Anthony Fernandez de Cloud Computing y una comparación con los quipus\\nLa segunda edición de los laboratorios de Kuyayky START Labs en el año 2024, incluyó la presentación de la artista peruano-estadounidense Lucia Morales quien llevó a Jauja su trabajo artístico itinerante “Sinpay.” Este proyecto comunitario que había visitado Chicago previamente consistia en que los participantes le ayuden a trenzar a la artista desde su cabeza, hasta una distancia de 50 metros, y decorar este cabello artificial largo con flores y cintas de colores mientras formaban una comunidad y reflexionaban sobre la herencia, la familia y sus propias historias.  El arquitecto Christian Lopez quien ha diseñado varios rascacielos en Miami incluyendo el icónico edificio “One Thousand Museum” como parte de la firma de la famosa arquitecta Zaha Hadid basada en Londres, presentó una autocrítica  reflexión sobre la sostenibilidad en su industria e invitó a repensar lo sustentable y a evitar que se cometan los errores en el uso del medio-ambiente como se hace en los llamados países desarrollados.\\nDesde el Insituto Post-Doctoral Zuckerman de la Universidad de Columbia, el Doctor en neurociencia,  Eddy Albarran presento vía virtual su ponencia sobre  actividad neuronal y el medio ambiente su investigacion se centra en la neurobiologia del aprendizaje por reforzamiento\\nAmy Chalan Futurismo e Interseccionalidad Indigena, Omar Aguilar Arqueologia sobre los Codices Mayas Max Villagary y Enoch Loayza \\nStephanie Lage Doctora en Neurobiologia y Neurociencia Sobre las Abejas y la Biocomputacion \\n\\n'"
            ],
            "application/vnd.google.colaboratory.intrinsic+json": {
              "type": "string"
            }
          },
          "metadata": {},
          "execution_count": 63
        }
      ]
    },
    {
      "cell_type": "code",
      "source": [
        "documents = [Document(page_content=text)]\n",
        "graph_documents = await graph_transformer.aconvert_to_graph_documents(documents)"
      ],
      "metadata": {
        "id": "QgtoQfXs52QM"
      },
      "execution_count": null,
      "outputs": []
    },
    {
      "cell_type": "code",
      "source": [
        "graph_documents"
      ],
      "metadata": {
        "colab": {
          "base_uri": "https://localhost:8080/"
        },
        "id": "RiFxhFW_aTKv",
        "outputId": "657553bb-7d72-47ba-a54f-a38a9e62d6ae"
      },
      "execution_count": null,
      "outputs": [
        {
          "output_type": "execute_result",
          "data": {
            "text/plain": [
              "[GraphDocument(nodes=[Node(id='Kuyayky Foundation', type='Organization', properties={}), Node(id='Yina Hurtado Bonilla', type='Person', properties={}), Node(id='David Villegas', type='Person', properties={}), Node(id='Jose Luis Hurtado Bonilla', type='Person', properties={}), Node(id='Lila Villegas', type='Person', properties={}), Node(id='Paz Villegas', type='Person', properties={}), Node(id='Kuyayky Wasi', type='Place', properties={}), Node(id='Iman Chay', type='Project', properties={}), Node(id='Peru', type='Place', properties={}), Node(id='United States', type='Place', properties={}), Node(id='Orquesta De Niños De Cuya', type='Organization', properties={}), Node(id='Jauja', type='Place', properties={}), Node(id='Kuyayky Start Labs', type='Organization', properties={}), Node(id='Andean Regions', type='Place', properties={}), Node(id='Benjamin Ordoñez', type='Person', properties={}), Node(id='Mantaro', type='Place', properties={}), Node(id='Remote Thermometer', type='Project', properties={}), Node(id='Sustainable Home In El Mantaro', type='Project', properties={}), Node(id='Solar Panels', type='Technology', properties={}), Node(id='Quipo Water Recycling', type='Technology', properties={}), Node(id='Maize', type='Crop', properties={}), Node(id='Potatoes', type='Crop', properties={}), Node(id='Quinoa', type='Crop', properties={}), Node(id='La Tropa De Cáceres', type='Music', properties={}), Node(id='Andrino Cáceres', type='Person', properties={}), Node(id='Carlos Arguelles', type='Person', properties={}), Node(id='Harvard University', type='Organization', properties={}), Node(id='Boston', type='Place', properties={}), Node(id='Neutrino Research', type='Project', properties={}), Node(id='Antarctic Observatory', type='Place', properties={}), Node(id='Antarctica', type='Place', properties={}), Node(id='Neutrino Observatory Colca Valley', type='Project', properties={}), Node(id='Colca Valley', type='Place', properties={}), Node(id='Quantum Computing', type='Technology', properties={}), Node(id='Heidy Yupan Bonilla', type='Person', properties={}), Node(id='Omar Flores', type='Person', properties={}), Node(id='Milagros Melgar', type='Person', properties={}), Node(id='Ciarose', type='Organization', properties={}), Node(id='Ayacucho', type='Place', properties={}), Node(id='Enriquez Condori', type='Person', properties={}), Node(id='Huancavelica', type='Place', properties={}), Node(id='Quechua Studio', type='Project', properties={}), Node(id='Quechua Language', type='Language', properties={}), Node(id='La Bombonera', type='Place', properties={}), Node(id='Jose Hurtado', type='Person', properties={}), Node(id='React Native', type='Technology', properties={}), Node(id='Javascript', type='Technology', properties={}), Node(id='Premiere Pro', type='Technology', properties={}), Node(id='Adriana Cespedes', type='Person', properties={}), Node(id='Northeastern University', type='Organization', properties={}), Node(id='Muquiyauyo', type='Place', properties={}), Node(id='Andahuaylas', type='Place', properties={}), Node(id='Apurimac', type='Place', properties={}), Node(id='Organ-On-A-Chip Research', type='Project', properties={}), Node(id='Boston (Adriana Cespedes)', type='Place', properties={}), Node(id='Silicone Chip', type='Object', properties={}), Node(id='Biocompatibility', type='Concept', properties={}), Node(id='Anthony Fernandez', type='Person', properties={}), Node(id='Cloud Computing', type='Technology', properties={}), Node(id='Quipus', type='Object', properties={}), Node(id='Lucia Morales', type='Person', properties={}), Node(id='Sinpay', type='Project', properties={}), Node(id='Chicago', type='Place', properties={}), Node(id='Christian Lopez', type='Person', properties={}), Node(id='Miami', type='Place', properties={}), Node(id='One Thousand Museum', type='Place', properties={}), Node(id='Zaha Hadid', type='Person', properties={}), Node(id='London', type='Place', properties={}), Node(id='Eddy Albarran', type='Person', properties={}), Node(id='Zuckerman Institute', type='Organization', properties={}), Node(id='Columbia University', type='Organization', properties={}), Node(id='Neuroscience Research (Eddy Albarran)', type='Project', properties={}), Node(id='Amy Chalan', type='Person', properties={}), Node(id='Omar Aguilar', type='Person', properties={}), Node(id='Codices Mayas', type='Object', properties={}), Node(id='Max Villagary', type='Person', properties={}), Node(id='Enoch Loayza', type='Person', properties={}), Node(id='Stephanie Lage', type='Person', properties={}), Node(id='Neurobiology And Neuroscience Research (Lage)', type='Project', properties={}), Node(id='Bee Research', type='Project', properties={}), Node(id='Biocomputation', type='Concept', properties={})], relationships=[Relationship(source=Node(id='Yina Hurtado Bonilla', type='Person', properties={}), target=Node(id='Kuyayky Foundation', type='Organization', properties={}), type='FOUNDER', properties={}), Relationship(source=Node(id='Yina Hurtado Bonilla', type='Person', properties={}), target=Node(id='United States', type='Place', properties={}), type='MOVED_TO', properties={}), Relationship(source=Node(id='Yina Hurtado Bonilla', type='Person', properties={}), target=Node(id='Iman Chay', type='Project', properties={}), type='CREATOR', properties={}), Relationship(source=Node(id='Kuyayky Foundation', type='Organization', properties={}), target=Node(id='Andean Artists From Peru', type='Person', properties={}), type='SUPPORT', properties={}), Relationship(source=Node(id='Kuyayky Foundation', type='Organization', properties={}), target=Node(id='Iman Chay', type='Project', properties={}), type='PROJECT', properties={}), Relationship(source=Node(id='Kuyayky Foundation', type='Organization', properties={}), target=Node(id='Orquesta De Niños De Cuya', type='Organization', properties={}), type='FOUNDED', properties={}), Relationship(source=Node(id='Orquesta De Niños De Cuya', type='Organization', properties={}), target=Node(id='Jauja', type='Place', properties={}), type='LOCATION', properties={}), Relationship(source=Node(id='Orquesta De Niños De Cuya', type='Organization', properties={}), target=Node(id='Science', type='Concept', properties={}), type='INTEGRATES', properties={}), Relationship(source=Node(id='Orquesta De Niños De Cuya', type='Organization', properties={}), target=Node(id='Art', type='Concept', properties={}), type='INTEGRATES', properties={}), Relationship(source=Node(id='Orquesta De Niños De Cuya', type='Organization', properties={}), target=Node(id='Technology', type='Concept', properties={}), type='INTEGRATES', properties={}), Relationship(source=Node(id='Orquesta De Niños De Cuya', type='Organization', properties={}), target=Node(id='Culture', type='Concept', properties={}), type='INTEGRATES', properties={}), Relationship(source=Node(id='Kuyayky Start Labs', type='Organization', properties={}), target=Node(id='Kuyayky Foundation', type='Organization', properties={}), type='LOCATION', properties={}), Relationship(source=Node(id='Kuyayky Start Labs', type='Organization', properties={}), target=Node(id='La Bombonera', type='Place', properties={}), type='NEAR', properties={}), Relationship(source=Node(id='Kuyayky Start Labs', type='Organization', properties={}), target=Node(id='Kuyayky Wasi', type='Place', properties={}), type='LOCATION', properties={}), Relationship(source=Node(id='Kuyayky Start Labs', type='Organization', properties={}), target=Node(id='Yauyos-Jauja', type='Place', properties={}), type='LOCATION', properties={}), Relationship(source=Node(id='Kuyayky Start Labs', type='Organization', properties={}), target=Node(id='Science', type='Concept', properties={}), type='PROMOTES', properties={}), Relationship(source=Node(id='Kuyayky Start Labs', type='Organization', properties={}), target=Node(id='Technology', type='Concept', properties={}), type='PROMOTES', properties={}), Relationship(source=Node(id='Kuyayky Start Labs', type='Organization', properties={}), target=Node(id='Arts', type='Concept', properties={}), type='PROMOTES', properties={}), Relationship(source=Node(id='Kuyayky Start Labs', type='Organization', properties={}), target=Node(id='Andean Youth', type='Person', properties={}), type='TARGETS', properties={}), Relationship(source=Node(id='Kuyayky Start Labs', type='Organization', properties={}), target=Node(id='Conferences And Workshops', type='Event', properties={}), type='ORGANIZES', properties={}), Relationship(source=Node(id='Benjamin Ordoñez', type='Person', properties={}), target=Node(id='Orquesta De Niños De Cuya', type='Organization', properties={}), type='MEMBER', properties={}), Relationship(source=Node(id='Benjamin Ordoñez', type='Person', properties={}), target=Node(id='Mantaro', type='Place', properties={}), type='LIVES_IN', properties={}), Relationship(source=Node(id='Benjamin Ordoñez', type='Person', properties={}), target=Node(id='Sustainable Home In El Mantaro', type='Project', properties={}), type='CREATOR', properties={}), Relationship(source=Node(id='Sustainable Home In El Mantaro', type='Project', properties={}), target=Node(id='Solar Panels', type='Technology', properties={}), type='USES', properties={}), Relationship(source=Node(id='Sustainable Home In El Mantaro', type='Project', properties={}), target=Node(id='Quipo Water Recycling', type='Technology', properties={}), type='USES', properties={}), Relationship(source=Node(id='Benjamin Ordoñez', type='Person', properties={}), target=Node(id='Remote Thermometer', type='Project', properties={}), type='CREATOR', properties={}), Relationship(source=Node(id='Sustainable Home In El Mantaro', type='Project', properties={}), target=Node(id='Maize', type='Crop', properties={}), type='ASSOCIATED_WITH', properties={}), Relationship(source=Node(id='Sustainable Home In El Mantaro', type='Project', properties={}), target=Node(id='Potatoes', type='Crop', properties={}), type='ASSOCIATED_WITH', properties={}), Relationship(source=Node(id='Sustainable Home In El Mantaro', type='Project', properties={}), target=Node(id='Quinoa', type='Crop', properties={}), type='ASSOCIATED_WITH', properties={}), Relationship(source=Node(id='Music', type='Concept', properties={}), target=Node(id='La Tropa De Cáceres', type='Music', properties={}), type='EXEMPLIFIED_BY', properties={}), Relationship(source=Node(id='La Tropa De Cáceres', type='Music', properties={}), target=Node(id='Andrino Cáceres', type='Person', properties={}), type='ABOUT', properties={}), Relationship(source=Node(id='Carlos Arguelles', type='Person', properties={}), target=Node(id='Harvard University', type='Organization', properties={}), type='PROFESSOR', properties={}), Relationship(source=Node(id='Carlos Arguelles', type='Person', properties={}), target=Node(id='Boston', type='Place', properties={}), type='LIVES_IN', properties={}), Relationship(source=Node(id='Carlos Arguelles', type='Person', properties={}), target=Node(id='Neutrino Research', type='Project', properties={}), type='PRESENTS', properties={}), Relationship(source=Node(id='Antarctic Observatory', type='Place', properties={}), target=Node(id='Antarctica', type='Place', properties={}), type='LOCATION', properties={}), Relationship(source=Node(id='Neutrino Observatory Colca Valley', type='Project', properties={}), target=Node(id='Colca Valley', type='Place', properties={}), type='LOCATION', properties={}), Relationship(source=Node(id='Carlos Arguelles', type='Person', properties={}), target=Node(id='Antarctic Observatory', type='Place', properties={}), type='RESEARCH', properties={}), Relationship(source=Node(id='Carlos Arguelles', type='Person', properties={}), target=Node(id='Neutrino Observatory Colca Valley', type='Project', properties={}), type='PLANS', properties={}), Relationship(source=Node(id='Carlos Arguelles', type='Person', properties={}), target=Node(id='Quantum Computing', type='Technology', properties={}), type='RESEARCH', properties={}), Relationship(source=Node(id='Carlos Arguelles', type='Person', properties={}), target=Node(id='Neutrinos', type='Concept', properties={}), type='RESEARCH', properties={}), Relationship(source=Node(id='Heidy Yupan Bonilla', type='Person', properties={}), target=Node(id='Peru', type='Place', properties={}), type='NATIONALITY', properties={}), Relationship(source=Node(id='Heidy Yupan Bonilla', type='Person', properties={}), target=Node(id='Developer', type='Concept', properties={}), type='OCCUPATION', properties={}), Relationship(source=Node(id='Ciarose', type='Organization', properties={}), target=Node(id='Ayacucho', type='Place', properties={}), type='LOCATION', properties={}), Relationship(source=Node(id='Ciarose', type='Organization', properties={}), target=Node(id='Audiovisual Workshops', type='Event', properties={}), type='ORGANIZES', properties={}), Relationship(source=Node(id='Ciarose', type='Organization', properties={}), target=Node(id='Production Of Three Short Films', type='Project', properties={}), type='RESULT', properties={}), Relationship(source=Node(id='Enriquez Condori', type='Person', properties={}), target=Node(id='Huancavelica', type='Place', properties={}), type='FROM', properties={}), Relationship(source=Node(id='Enriquez Condori', type='Person', properties={}), target=Node(id='Quechua Studio', type='Project', properties={}), type='FOUNDER', properties={}), Relationship(source=Node(id='Quechua Studio', type='Project', properties={}), target=Node(id='Quechua Language', type='Language', properties={}), type='PROMOTES', properties={}), Relationship(source=Node(id='Yina Hurtado Bonilla', type='Person', properties={}), target=Node(id='David Villegas', type='Person', properties={}), type='SPOUSE', properties={}), Relationship(source=Node(id='Yina Hurtado Bonilla', type='Person', properties={}), target=Node(id='Jose Luis Hurtado Bonilla', type='Person', properties={}), type='SIBLING', properties={}), Relationship(source=Node(id='Yina Hurtado Bonilla', type='Person', properties={}), target=Node(id='Lila Villegas', type='Person', properties={}), type='PARENT', properties={}), Relationship(source=Node(id='Yina Hurtado Bonilla', type='Person', properties={}), target=Node(id='Paz Villegas', type='Person', properties={}), type='PARENT', properties={}), Relationship(source=Node(id='David Villegas', type='Person', properties={}), target=Node(id='Iman Chay', type='Project', properties={}), type='PROGRAMMER', properties={}), Relationship(source=Node(id='David Villegas', type='Person', properties={}), target=Node(id='React Native', type='Technology', properties={}), type='USES', properties={}), Relationship(source=Node(id='React Native', type='Technology', properties={}), target=Node(id='Javascript', type='Technology', properties={}), type='FRAMEWORK', properties={}), Relationship(source=Node(id='Yina Hurtado Bonilla', type='Person', properties={}), target=Node(id='Iman Chay', type='Project', properties={}), type='ART_CONTRIBUTOR', properties={}), Relationship(source=Node(id='Yina Hurtado Bonilla', type='Person', properties={}), target=Node(id='Premiere Pro', type='Technology', properties={}), type='USES', properties={}), Relationship(source=Node(id='Yina Hurtado Bonilla', type='Person', properties={}), target=Node(id='Hand-Drawn Art By Lila Villegas', type='Object', properties={}), type='USES', properties={}), Relationship(source=Node(id='Jose Luis Hurtado Bonilla', type='Person', properties={}), target=Node(id='Iman Chay', type='Project', properties={}), type='PROGRAMMER', properties={}), Relationship(source=Node(id='Jose Luis Hurtado Bonilla', type='Person', properties={}), target=Node(id='Music Composition For Iman Chay', type='Project', properties={}), type='COMPOSER', properties={}), Relationship(source=Node(id='Adriana Cespedes', type='Person', properties={}), target=Node(id='Northeastern University', type='Organization', properties={}), type='AFFILIATION', properties={}), Relationship(source=Node(id='Adriana Cespedes', type='Person', properties={}), target=Node(id='Muquiyauyo', type='Place', properties={}), type='ROOTS', properties={}), Relationship(source=Node(id='Adriana Cespedes', type='Person', properties={}), target=Node(id='Andahuaylas', type='Place', properties={}), type='ROOTS', properties={}), Relationship(source=Node(id='Adriana Cespedes', type='Person', properties={}), target=Node(id='Apurimac', type='Place', properties={}), type='ROOTS', properties={}), Relationship(source=Node(id='Adriana Cespedes', type='Person', properties={}), target=Node(id='Organ-On-A-Chip Research', type='Project', properties={}), type='RESEARCH', properties={}), Relationship(source=Node(id='Organ-On-A-Chip Research', type='Project', properties={}), target=Node(id='Silicone Chip', type='Object', properties={}), type='USES', properties={}), Relationship(source=Node(id='Organ-On-A-Chip Research', type='Project', properties={}), target=Node(id='Biocompatibility', type='Concept', properties={}), type='HAS_PROPERTY', properties={}), Relationship(source=Node(id='Anthony Fernandez', type='Person', properties={}), target=Node(id='Cloud Computing', type='Technology', properties={}), type='PRESENTS', properties={}), Relationship(source=Node(id='Anthony Fernandez', type='Person', properties={}), target=Node(id='Quipus', type='Object', properties={}), type='COMPARES', properties={}), Relationship(source=Node(id='Lucia Morales', type='Person', properties={}), target=Node(id='Peru', type='Place', properties={}), type='NATIONALITY', properties={}), Relationship(source=Node(id='Lucia Morales', type='Person', properties={}), target=Node(id='United States', type='Place', properties={}), type='NATIONALITY', properties={}), Relationship(source=Node(id='Lucia Morales', type='Person', properties={}), target=Node(id='Sinpay', type='Project', properties={}), type='CREATOR', properties={}), Relationship(source=Node(id='Sinpay', type='Project', properties={}), target=Node(id='Chicago', type='Place', properties={}), type='VISITED', properties={}), Relationship(source=Node(id='Sinpay', type='Project', properties={}), target=Node(id='Jauja', type='Place', properties={}), type='VISITED', properties={}), Relationship(source=Node(id='Sinpay', type='Project', properties={}), target=Node(id='Community Engagement', type='Concept', properties={}), type='AIMS', properties={}), Relationship(source=Node(id='Christian Lopez', type='Person', properties={}), target=Node(id='Miami', type='Place', properties={}), type='WORKS_IN', properties={}), Relationship(source=Node(id='Christian Lopez', type='Person', properties={}), target=Node(id='One Thousand Museum', type='Place', properties={}), type='DESIGNER', properties={}), Relationship(source=Node(id='Christian Lopez', type='Person', properties={}), target=Node(id='Zaha Hadid', type='Person', properties={}), type='WORKED_WITH', properties={}), Relationship(source=Node(id='Zaha Hadid', type='Person', properties={}), target=Node(id='London', type='Place', properties={}), type='BASED_IN', properties={}), Relationship(source=Node(id='Eddy Albarran', type='Person', properties={}), target=Node(id='Zuckerman Institute', type='Organization', properties={}), type='AFFILIATION', properties={}), Relationship(source=Node(id='Eddy Albarran', type='Person', properties={}), target=Node(id='Columbia University', type='Organization', properties={}), type='AFFILIATION', properties={}), Relationship(source=Node(id='Eddy Albarran', type='Person', properties={}), target=Node(id='Neuroscience Research (Eddy Albarran)', type='Project', properties={}), type='RESEARCH', properties={}), Relationship(source=Node(id='Neuroscience Research (Eddy Albarran)', type='Project', properties={}), target=Node(id='Learning By Reinforcement', type='Concept', properties={}), type='FOCUS', properties={}), Relationship(source=Node(id='Stephanie Lage', type='Person', properties={}), target=Node(id='Neurobiology And Neuroscience Research (Lage)', type='Project', properties={}), type='RESEARCH', properties={}), Relationship(source=Node(id='Stephanie Lage', type='Person', properties={}), target=Node(id='Bee Research', type='Project', properties={}), type='RESEARCH', properties={}), Relationship(source=Node(id='Stephanie Lage', type='Person', properties={}), target=Node(id='Biocomputation', type='Concept', properties={}), type='RESEARCH', properties={})], source=Document(metadata={}, page_content='Bringing a new dialogue between outstanding creators and innovators from Andean regions and renowned scientists, programmers, and artists from abroad- through conferences and workshops\\n01/21/2013  @9:30am at 11,200ft above sea level, in the small town of Yauyos-Jauja (Peru) in our Kuyayky Wasi\\n00:00:00 Ruben Condori welcomes everyone to the initiative, which aims to unite scientists, technology workers, and artists. Yina Hurtado shares the Hurtado Bonilla family background, detailing their journey from Peru to the United States in 1993, bringing their music and culture with them. They founded the Kuyayky Foundation to support Andean artists from Peru and launched various projects, including an app called Iman Chay to learn Quechua. In 2014, they established the Orquesta de Niños de Cuya in Jauja, Peru, integrating science, art, technology, and culture into their work. Kuyayky Start Labs aims to be a bridge between people in diverse fields, facilitating knowledge exchange and inspiring young people.\\n\\n00:05:00 Ruben Condori elaborates on the mission of Kuyayky StartLabs in both Spanish and Quechua. The organization\\'s goal is to promote science, technology, and arts among Andean youth by fostering dialogue between local creators and innovators, and renowned scientists, programmers, and artists from abroad. Conferences and workshops encourage the development of projects with a focus on identity and the environment.\\n\\n00:07:30 Benjamin Ordoñez, a member of the orchestra and a scientist-farmer, is introduced. He lives in Mantaro and has developed a sustainable home using solar panels and a quipo for water recycling. The community grows traditional crops such as maize, potatoes, and quinoa, which are culturally significant. Ordoñez asks the audience if music, such as a song or melody, can influence their mood or emotions, encouraging those who agree to raise their hands. He explains music\\'s powerful emotional impact, citing \"La tropa de Cáceres,\" a song from the Chilean invasion era about their famous general and brujo, Andrino Cáceres.\\n\\n00:14:47 Contactless Thermometer Demonstration.\\n\\n00:21:39 Carlos Arguelles discusses his various scientific projects, including work in particle physics and neutrinos.\\n\\n00:30:00 The speaker discusses the Antarctic observatory and the detection of neutrinos using ice. The observatory, located in Antarctica, employs drills to create holes in the ice up to 2 km deep and 1.2 meters wide.\\n\\n00:35:37 Carlos Arguelles fields questions about his research on spacetime bending due to black hole fusion and the complementary data obtained.\\n\\n00:36:25 Carlos addresses the applications of his neutrino research, noting that the computational methods developed for large data processing could benefit tech companies and highlighting the potential of quantum computing.\\n\\n00:40:00 Carlos discusses plans to build a neutrino observatory in the Colca Valley, Peru.\\n\\n00:40:54 Carlos shares his personal journey in finding his scientific path.\\n\\n00:41:53 Carlos answers why neutrino research takes place at the South Pole, explaining that while elements in the universe can be identified, their interactions are often random.\\n\\n00:46:23 Question on quantum computing.\\n\\n00:45:00 Carlos explains the probabilistic nature of particle interactions in quantum physics.\\n\\n00:50:00 Carlos discusses quantum computers\\' applications, specifically focusing on data compression.\\n\\n00:54:32 Presenters thank Carlos for his participation in both Spanish and Quechua.\\n\\n00:55:00 Heidy Yupan Bonilla, a Peruvian developer, is introduced.\\n\\n1:04:00 Omar Flores.\\n\\n1:05:20 Milagros Melgar.\\n\\n1:08:00 Ayachucho-based CiaRose expresses their desire to break the centralization of high-quality audiovisual production.\\n\\n01:25:00 Enriquez Condori from Huancavelica, Peru, shares his experience of starting a YouTube channel, Quechua Studio, to teach and promote the Quechua language.Justo cuando Jauja comenzaba eufórica la fiesta de la Tunantada en el 2023,  a poca distancia de la Plaza 20 de Enero, se inauguraba en Yauyos el Kuyayky START Labs, un laboratorio de Ciencia, Tecnología y Arte en el local de la Fundación Kuyayky cerca de la cancha deportiva comunitaria, conocida como “La Bombonera”. La idea comenzó cuando, durante el encierro de la pandemia, la Ingeniera de Sistemas Yina Hurtado Bonilla, junto a los también ingenieros de sistemas- su esposo, David Villegas y su hermano Jose Hurtado y sus pequeñas hijas, Lila y Paz, habían empezado a diseñar el aplicativo “Iman Chay” para aprender Quechua. \\n“Cuando lanzamos el aplicativo nos llamaron  de la radio y la televisión para hacer reportajes y entrevistas de Perú y el extranjero, y también nos contactaron maestros de diversos sitios y nos dimos cuenta que había un interés en la tecnología y que era importante crear espacios para incentivar no solo el consumo de la tecnología sino también el estudio de la ciencia junto con el arte entre los niños, jóvenes, para que ellos mismos puedan idear y concretar proyectos de ciencia, tecnología y arte como ya lo veníamos haciendo en Kuyayky,” recuerda Yina Hurtado. \\nPara programar el aplicativo “Iman Chay” (¿Qué es esto?), el doctor en ingeniería David Villegas utilizó React Native, un framework del lenguaje de computación JavaScript. La ingeniera y diseñadora Yina Hurtado usó Premiere Pro para incluir el arte de los dibujos hechos a mano por sus hijas y otros niños en el aplicativo y el doctor en ingeniería Jose Luis Hurtado Bonilla contribuyó con la programación pero también con la composición de la música que se usaría en el aplicativo.\\nMientras en el fondo se escuchaba la música de las orquestas de la Tunantada, la tarde del 21 de enero del 2023,  el lanzamiento del Laboratorio Kuyayky START Labs, tuvo como principal invitado al Catedrático en Física de la Universidad de Harvard Carlos Arguelles, quien se conectó virtualmente desde Boston para hablar con los niños y jóvenes asistentes al local de Kuyayky en Yauyos. Arguelles, quien es el primer peruano que enseña física en Harvard, presentó su investigación de los neutrinos, unas partículas subatómicas, que son indivisibles, de carga neutra y que pueden viajar libremente por el universo. Y aunque pocos de los asistentes quizás conocían de los neutrinos, durante la charla de Arguelles, se enteraron de que todos estamos expuestos a ellos. Producidos por fuentes como el sol o los rayos cósmicos, unos 40 mil millones de neutrinos, están atravesando nuestro dedo pulgar en cualquier momento. El entendimiento de los neutrinos es muy importante para la comprensión del universo.  Otros de los ponentes incluyeron al joven Benjamin Ordonez quien presentó sus proyectos como un termómetro remoto que construyó en Jauja durante la pandemia y cómo concretó una casa autosostenible en el distrito de El Mantaro donde junto a su padre usando la tecnología de paneles solares para proveerse de luz, manejar las temperaturas de sus sembríos con canales y tratar las aguas servidas.\\nEn julio de ese mismo año se iniciaron los talleres del START Labs con la productora Ayacuchana Ciarose, quien hizo un taller de audiovisuales para niños y jóvenes que concluyó con la producción de tres cortometrajes. También incluyó la exposición de la Ingeniera en Biotecnología Adriana Cespedes de la Universidad Northeastern y quien tiene raíces en el distrito de Muquiyauyo, Jauja  y de Andahuaylas, Apurimac. La ponencia de la ingeniería Cespedes se enfocó en su trabajo de investigación en Boston conocido como  “órgano en un chip” y que intenta modelar órganos del cuerpo humano, como el pulmón o el hígado en un chip hecho de un tipo de silicona con diferentes canales y flujos  y que es biocompatible con las células humanas. Su trabajo explicó ayudará a que se pueda probar los medicamentos en estos modelos. Anthony Fernandez de Cloud Computing y una comparación con los quipus\\nLa segunda edición de los laboratorios de Kuyayky START Labs en el año 2024, incluyó la presentación de la artista peruano-estadounidense Lucia Morales quien llevó a Jauja su trabajo artístico itinerante “Sinpay.” Este proyecto comunitario que había visitado Chicago previamente consistia en que los participantes le ayuden a trenzar a la artista desde su cabeza, hasta una distancia de 50 metros, y decorar este cabello artificial largo con flores y cintas de colores mientras formaban una comunidad y reflexionaban sobre la herencia, la familia y sus propias historias.  El arquitecto Christian Lopez quien ha diseñado varios rascacielos en Miami incluyendo el icónico edificio “One Thousand Museum” como parte de la firma de la famosa arquitecta Zaha Hadid basada en Londres, presentó una autocrítica  reflexión sobre la sostenibilidad en su industria e invitó a repensar lo sustentable y a evitar que se cometan los errores en el uso del medio-ambiente como se hace en los llamados países desarrollados.\\nDesde el Insituto Post-Doctoral Zuckerman de la Universidad de Columbia, el Doctor en neurociencia,  Eddy Albarran presento vía virtual su ponencia sobre  actividad neuronal y el medio ambiente su investigacion se centra en la neurobiologia del aprendizaje por reforzamiento\\nAmy Chalan Futurismo e Interseccionalidad Indigena, Omar Aguilar Arqueologia sobre los Codices Mayas Max Villagary y Enoch Loayza \\nStephanie Lage Doctora en Neurobiologia y Neurociencia Sobre las Abejas y la Biocomputacion \\n\\n'))]"
            ]
          },
          "metadata": {},
          "execution_count": 66
        }
      ]
    },
    {
      "cell_type": "code",
      "source": [
        "print(f\"Nodes:{graph_documents[0].nodes}\")\n",
        "print(f\"Relationships:{graph_documents[0].relationships}\")"
      ],
      "metadata": {
        "colab": {
          "base_uri": "https://localhost:8080/"
        },
        "id": "bFNy7iJhCh1C",
        "outputId": "d3d76640-bd70-48ed-d485-b8dad065ea4f"
      },
      "execution_count": null,
      "outputs": [
        {
          "output_type": "stream",
          "name": "stdout",
          "text": [
            "Nodes:[Node(id='Kuyayky Foundation', type='Organization', properties={}), Node(id='Yina Hurtado Bonilla', type='Person', properties={}), Node(id='David Villegas', type='Person', properties={}), Node(id='Jose Luis Hurtado Bonilla', type='Person', properties={}), Node(id='Lila Villegas', type='Person', properties={}), Node(id='Paz Villegas', type='Person', properties={}), Node(id='Kuyayky Wasi', type='Place', properties={}), Node(id='Iman Chay', type='Project', properties={}), Node(id='Peru', type='Place', properties={}), Node(id='United States', type='Place', properties={}), Node(id='Orquesta De Niños De Cuya', type='Organization', properties={}), Node(id='Jauja', type='Place', properties={}), Node(id='Kuyayky Start Labs', type='Organization', properties={}), Node(id='Andean Regions', type='Place', properties={}), Node(id='Benjamin Ordoñez', type='Person', properties={}), Node(id='Mantaro', type='Place', properties={}), Node(id='Remote Thermometer', type='Project', properties={}), Node(id='Sustainable Home In El Mantaro', type='Project', properties={}), Node(id='Solar Panels', type='Technology', properties={}), Node(id='Quipo Water Recycling', type='Technology', properties={}), Node(id='Maize', type='Crop', properties={}), Node(id='Potatoes', type='Crop', properties={}), Node(id='Quinoa', type='Crop', properties={}), Node(id='La Tropa De Cáceres', type='Music', properties={}), Node(id='Andrino Cáceres', type='Person', properties={}), Node(id='Carlos Arguelles', type='Person', properties={}), Node(id='Harvard University', type='Organization', properties={}), Node(id='Boston', type='Place', properties={}), Node(id='Neutrino Research', type='Project', properties={}), Node(id='Antarctic Observatory', type='Place', properties={}), Node(id='Antarctica', type='Place', properties={}), Node(id='Neutrino Observatory Colca Valley', type='Project', properties={}), Node(id='Colca Valley', type='Place', properties={}), Node(id='Quantum Computing', type='Technology', properties={}), Node(id='Heidy Yupan Bonilla', type='Person', properties={}), Node(id='Omar Flores', type='Person', properties={}), Node(id='Milagros Melgar', type='Person', properties={}), Node(id='Ciarose', type='Organization', properties={}), Node(id='Ayacucho', type='Place', properties={}), Node(id='Enriquez Condori', type='Person', properties={}), Node(id='Huancavelica', type='Place', properties={}), Node(id='Quechua Studio', type='Project', properties={}), Node(id='Quechua Language', type='Language', properties={}), Node(id='La Bombonera', type='Place', properties={}), Node(id='Jose Hurtado', type='Person', properties={}), Node(id='React Native', type='Technology', properties={}), Node(id='Javascript', type='Technology', properties={}), Node(id='Premiere Pro', type='Technology', properties={}), Node(id='Adriana Cespedes', type='Person', properties={}), Node(id='Northeastern University', type='Organization', properties={}), Node(id='Muquiyauyo', type='Place', properties={}), Node(id='Andahuaylas', type='Place', properties={}), Node(id='Apurimac', type='Place', properties={}), Node(id='Organ-On-A-Chip Research', type='Project', properties={}), Node(id='Boston (Adriana Cespedes)', type='Place', properties={}), Node(id='Silicone Chip', type='Object', properties={}), Node(id='Biocompatibility', type='Concept', properties={}), Node(id='Anthony Fernandez', type='Person', properties={}), Node(id='Cloud Computing', type='Technology', properties={}), Node(id='Quipus', type='Object', properties={}), Node(id='Lucia Morales', type='Person', properties={}), Node(id='Sinpay', type='Project', properties={}), Node(id='Chicago', type='Place', properties={}), Node(id='Christian Lopez', type='Person', properties={}), Node(id='Miami', type='Place', properties={}), Node(id='One Thousand Museum', type='Place', properties={}), Node(id='Zaha Hadid', type='Person', properties={}), Node(id='London', type='Place', properties={}), Node(id='Eddy Albarran', type='Person', properties={}), Node(id='Zuckerman Institute', type='Organization', properties={}), Node(id='Columbia University', type='Organization', properties={}), Node(id='Neuroscience Research (Eddy Albarran)', type='Project', properties={}), Node(id='Amy Chalan', type='Person', properties={}), Node(id='Omar Aguilar', type='Person', properties={}), Node(id='Codices Mayas', type='Object', properties={}), Node(id='Max Villagary', type='Person', properties={}), Node(id='Enoch Loayza', type='Person', properties={}), Node(id='Stephanie Lage', type='Person', properties={}), Node(id='Neurobiology And Neuroscience Research (Lage)', type='Project', properties={}), Node(id='Bee Research', type='Project', properties={}), Node(id='Biocomputation', type='Concept', properties={})]\n",
            "Relationships:[Relationship(source=Node(id='Yina Hurtado Bonilla', type='Person', properties={}), target=Node(id='Kuyayky Foundation', type='Organization', properties={}), type='FOUNDER', properties={}), Relationship(source=Node(id='Yina Hurtado Bonilla', type='Person', properties={}), target=Node(id='United States', type='Place', properties={}), type='MOVED_TO', properties={}), Relationship(source=Node(id='Yina Hurtado Bonilla', type='Person', properties={}), target=Node(id='Iman Chay', type='Project', properties={}), type='CREATOR', properties={}), Relationship(source=Node(id='Kuyayky Foundation', type='Organization', properties={}), target=Node(id='Andean Artists From Peru', type='Person', properties={}), type='SUPPORT', properties={}), Relationship(source=Node(id='Kuyayky Foundation', type='Organization', properties={}), target=Node(id='Iman Chay', type='Project', properties={}), type='PROJECT', properties={}), Relationship(source=Node(id='Kuyayky Foundation', type='Organization', properties={}), target=Node(id='Orquesta De Niños De Cuya', type='Organization', properties={}), type='FOUNDED', properties={}), Relationship(source=Node(id='Orquesta De Niños De Cuya', type='Organization', properties={}), target=Node(id='Jauja', type='Place', properties={}), type='LOCATION', properties={}), Relationship(source=Node(id='Orquesta De Niños De Cuya', type='Organization', properties={}), target=Node(id='Science', type='Concept', properties={}), type='INTEGRATES', properties={}), Relationship(source=Node(id='Orquesta De Niños De Cuya', type='Organization', properties={}), target=Node(id='Art', type='Concept', properties={}), type='INTEGRATES', properties={}), Relationship(source=Node(id='Orquesta De Niños De Cuya', type='Organization', properties={}), target=Node(id='Technology', type='Concept', properties={}), type='INTEGRATES', properties={}), Relationship(source=Node(id='Orquesta De Niños De Cuya', type='Organization', properties={}), target=Node(id='Culture', type='Concept', properties={}), type='INTEGRATES', properties={}), Relationship(source=Node(id='Kuyayky Start Labs', type='Organization', properties={}), target=Node(id='Kuyayky Foundation', type='Organization', properties={}), type='LOCATION', properties={}), Relationship(source=Node(id='Kuyayky Start Labs', type='Organization', properties={}), target=Node(id='La Bombonera', type='Place', properties={}), type='NEAR', properties={}), Relationship(source=Node(id='Kuyayky Start Labs', type='Organization', properties={}), target=Node(id='Kuyayky Wasi', type='Place', properties={}), type='LOCATION', properties={}), Relationship(source=Node(id='Kuyayky Start Labs', type='Organization', properties={}), target=Node(id='Yauyos-Jauja', type='Place', properties={}), type='LOCATION', properties={}), Relationship(source=Node(id='Kuyayky Start Labs', type='Organization', properties={}), target=Node(id='Science', type='Concept', properties={}), type='PROMOTES', properties={}), Relationship(source=Node(id='Kuyayky Start Labs', type='Organization', properties={}), target=Node(id='Technology', type='Concept', properties={}), type='PROMOTES', properties={}), Relationship(source=Node(id='Kuyayky Start Labs', type='Organization', properties={}), target=Node(id='Arts', type='Concept', properties={}), type='PROMOTES', properties={}), Relationship(source=Node(id='Kuyayky Start Labs', type='Organization', properties={}), target=Node(id='Andean Youth', type='Person', properties={}), type='TARGETS', properties={}), Relationship(source=Node(id='Kuyayky Start Labs', type='Organization', properties={}), target=Node(id='Conferences And Workshops', type='Event', properties={}), type='ORGANIZES', properties={}), Relationship(source=Node(id='Benjamin Ordoñez', type='Person', properties={}), target=Node(id='Orquesta De Niños De Cuya', type='Organization', properties={}), type='MEMBER', properties={}), Relationship(source=Node(id='Benjamin Ordoñez', type='Person', properties={}), target=Node(id='Mantaro', type='Place', properties={}), type='LIVES_IN', properties={}), Relationship(source=Node(id='Benjamin Ordoñez', type='Person', properties={}), target=Node(id='Sustainable Home In El Mantaro', type='Project', properties={}), type='CREATOR', properties={}), Relationship(source=Node(id='Sustainable Home In El Mantaro', type='Project', properties={}), target=Node(id='Solar Panels', type='Technology', properties={}), type='USES', properties={}), Relationship(source=Node(id='Sustainable Home In El Mantaro', type='Project', properties={}), target=Node(id='Quipo Water Recycling', type='Technology', properties={}), type='USES', properties={}), Relationship(source=Node(id='Benjamin Ordoñez', type='Person', properties={}), target=Node(id='Remote Thermometer', type='Project', properties={}), type='CREATOR', properties={}), Relationship(source=Node(id='Sustainable Home In El Mantaro', type='Project', properties={}), target=Node(id='Maize', type='Crop', properties={}), type='ASSOCIATED_WITH', properties={}), Relationship(source=Node(id='Sustainable Home In El Mantaro', type='Project', properties={}), target=Node(id='Potatoes', type='Crop', properties={}), type='ASSOCIATED_WITH', properties={}), Relationship(source=Node(id='Sustainable Home In El Mantaro', type='Project', properties={}), target=Node(id='Quinoa', type='Crop', properties={}), type='ASSOCIATED_WITH', properties={}), Relationship(source=Node(id='Music', type='Concept', properties={}), target=Node(id='La Tropa De Cáceres', type='Music', properties={}), type='EXEMPLIFIED_BY', properties={}), Relationship(source=Node(id='La Tropa De Cáceres', type='Music', properties={}), target=Node(id='Andrino Cáceres', type='Person', properties={}), type='ABOUT', properties={}), Relationship(source=Node(id='Carlos Arguelles', type='Person', properties={}), target=Node(id='Harvard University', type='Organization', properties={}), type='PROFESSOR', properties={}), Relationship(source=Node(id='Carlos Arguelles', type='Person', properties={}), target=Node(id='Boston', type='Place', properties={}), type='LIVES_IN', properties={}), Relationship(source=Node(id='Carlos Arguelles', type='Person', properties={}), target=Node(id='Neutrino Research', type='Project', properties={}), type='PRESENTS', properties={}), Relationship(source=Node(id='Antarctic Observatory', type='Place', properties={}), target=Node(id='Antarctica', type='Place', properties={}), type='LOCATION', properties={}), Relationship(source=Node(id='Neutrino Observatory Colca Valley', type='Project', properties={}), target=Node(id='Colca Valley', type='Place', properties={}), type='LOCATION', properties={}), Relationship(source=Node(id='Carlos Arguelles', type='Person', properties={}), target=Node(id='Antarctic Observatory', type='Place', properties={}), type='RESEARCH', properties={}), Relationship(source=Node(id='Carlos Arguelles', type='Person', properties={}), target=Node(id='Neutrino Observatory Colca Valley', type='Project', properties={}), type='PLANS', properties={}), Relationship(source=Node(id='Carlos Arguelles', type='Person', properties={}), target=Node(id='Quantum Computing', type='Technology', properties={}), type='RESEARCH', properties={}), Relationship(source=Node(id='Carlos Arguelles', type='Person', properties={}), target=Node(id='Neutrinos', type='Concept', properties={}), type='RESEARCH', properties={}), Relationship(source=Node(id='Heidy Yupan Bonilla', type='Person', properties={}), target=Node(id='Peru', type='Place', properties={}), type='NATIONALITY', properties={}), Relationship(source=Node(id='Heidy Yupan Bonilla', type='Person', properties={}), target=Node(id='Developer', type='Concept', properties={}), type='OCCUPATION', properties={}), Relationship(source=Node(id='Ciarose', type='Organization', properties={}), target=Node(id='Ayacucho', type='Place', properties={}), type='LOCATION', properties={}), Relationship(source=Node(id='Ciarose', type='Organization', properties={}), target=Node(id='Audiovisual Workshops', type='Event', properties={}), type='ORGANIZES', properties={}), Relationship(source=Node(id='Ciarose', type='Organization', properties={}), target=Node(id='Production Of Three Short Films', type='Project', properties={}), type='RESULT', properties={}), Relationship(source=Node(id='Enriquez Condori', type='Person', properties={}), target=Node(id='Huancavelica', type='Place', properties={}), type='FROM', properties={}), Relationship(source=Node(id='Enriquez Condori', type='Person', properties={}), target=Node(id='Quechua Studio', type='Project', properties={}), type='FOUNDER', properties={}), Relationship(source=Node(id='Quechua Studio', type='Project', properties={}), target=Node(id='Quechua Language', type='Language', properties={}), type='PROMOTES', properties={}), Relationship(source=Node(id='Yina Hurtado Bonilla', type='Person', properties={}), target=Node(id='David Villegas', type='Person', properties={}), type='SPOUSE', properties={}), Relationship(source=Node(id='Yina Hurtado Bonilla', type='Person', properties={}), target=Node(id='Jose Luis Hurtado Bonilla', type='Person', properties={}), type='SIBLING', properties={}), Relationship(source=Node(id='Yina Hurtado Bonilla', type='Person', properties={}), target=Node(id='Lila Villegas', type='Person', properties={}), type='PARENT', properties={}), Relationship(source=Node(id='Yina Hurtado Bonilla', type='Person', properties={}), target=Node(id='Paz Villegas', type='Person', properties={}), type='PARENT', properties={}), Relationship(source=Node(id='David Villegas', type='Person', properties={}), target=Node(id='Iman Chay', type='Project', properties={}), type='PROGRAMMER', properties={}), Relationship(source=Node(id='David Villegas', type='Person', properties={}), target=Node(id='React Native', type='Technology', properties={}), type='USES', properties={}), Relationship(source=Node(id='React Native', type='Technology', properties={}), target=Node(id='Javascript', type='Technology', properties={}), type='FRAMEWORK', properties={}), Relationship(source=Node(id='Yina Hurtado Bonilla', type='Person', properties={}), target=Node(id='Iman Chay', type='Project', properties={}), type='ART_CONTRIBUTOR', properties={}), Relationship(source=Node(id='Yina Hurtado Bonilla', type='Person', properties={}), target=Node(id='Premiere Pro', type='Technology', properties={}), type='USES', properties={}), Relationship(source=Node(id='Yina Hurtado Bonilla', type='Person', properties={}), target=Node(id='Hand-Drawn Art By Lila Villegas', type='Object', properties={}), type='USES', properties={}), Relationship(source=Node(id='Jose Luis Hurtado Bonilla', type='Person', properties={}), target=Node(id='Iman Chay', type='Project', properties={}), type='PROGRAMMER', properties={}), Relationship(source=Node(id='Jose Luis Hurtado Bonilla', type='Person', properties={}), target=Node(id='Music Composition For Iman Chay', type='Project', properties={}), type='COMPOSER', properties={}), Relationship(source=Node(id='Adriana Cespedes', type='Person', properties={}), target=Node(id='Northeastern University', type='Organization', properties={}), type='AFFILIATION', properties={}), Relationship(source=Node(id='Adriana Cespedes', type='Person', properties={}), target=Node(id='Muquiyauyo', type='Place', properties={}), type='ROOTS', properties={}), Relationship(source=Node(id='Adriana Cespedes', type='Person', properties={}), target=Node(id='Andahuaylas', type='Place', properties={}), type='ROOTS', properties={}), Relationship(source=Node(id='Adriana Cespedes', type='Person', properties={}), target=Node(id='Apurimac', type='Place', properties={}), type='ROOTS', properties={}), Relationship(source=Node(id='Adriana Cespedes', type='Person', properties={}), target=Node(id='Organ-On-A-Chip Research', type='Project', properties={}), type='RESEARCH', properties={}), Relationship(source=Node(id='Organ-On-A-Chip Research', type='Project', properties={}), target=Node(id='Silicone Chip', type='Object', properties={}), type='USES', properties={}), Relationship(source=Node(id='Organ-On-A-Chip Research', type='Project', properties={}), target=Node(id='Biocompatibility', type='Concept', properties={}), type='HAS_PROPERTY', properties={}), Relationship(source=Node(id='Anthony Fernandez', type='Person', properties={}), target=Node(id='Cloud Computing', type='Technology', properties={}), type='PRESENTS', properties={}), Relationship(source=Node(id='Anthony Fernandez', type='Person', properties={}), target=Node(id='Quipus', type='Object', properties={}), type='COMPARES', properties={}), Relationship(source=Node(id='Lucia Morales', type='Person', properties={}), target=Node(id='Peru', type='Place', properties={}), type='NATIONALITY', properties={}), Relationship(source=Node(id='Lucia Morales', type='Person', properties={}), target=Node(id='United States', type='Place', properties={}), type='NATIONALITY', properties={}), Relationship(source=Node(id='Lucia Morales', type='Person', properties={}), target=Node(id='Sinpay', type='Project', properties={}), type='CREATOR', properties={}), Relationship(source=Node(id='Sinpay', type='Project', properties={}), target=Node(id='Chicago', type='Place', properties={}), type='VISITED', properties={}), Relationship(source=Node(id='Sinpay', type='Project', properties={}), target=Node(id='Jauja', type='Place', properties={}), type='VISITED', properties={}), Relationship(source=Node(id='Sinpay', type='Project', properties={}), target=Node(id='Community Engagement', type='Concept', properties={}), type='AIMS', properties={}), Relationship(source=Node(id='Christian Lopez', type='Person', properties={}), target=Node(id='Miami', type='Place', properties={}), type='WORKS_IN', properties={}), Relationship(source=Node(id='Christian Lopez', type='Person', properties={}), target=Node(id='One Thousand Museum', type='Place', properties={}), type='DESIGNER', properties={}), Relationship(source=Node(id='Christian Lopez', type='Person', properties={}), target=Node(id='Zaha Hadid', type='Person', properties={}), type='WORKED_WITH', properties={}), Relationship(source=Node(id='Zaha Hadid', type='Person', properties={}), target=Node(id='London', type='Place', properties={}), type='BASED_IN', properties={}), Relationship(source=Node(id='Eddy Albarran', type='Person', properties={}), target=Node(id='Zuckerman Institute', type='Organization', properties={}), type='AFFILIATION', properties={}), Relationship(source=Node(id='Eddy Albarran', type='Person', properties={}), target=Node(id='Columbia University', type='Organization', properties={}), type='AFFILIATION', properties={}), Relationship(source=Node(id='Eddy Albarran', type='Person', properties={}), target=Node(id='Neuroscience Research (Eddy Albarran)', type='Project', properties={}), type='RESEARCH', properties={}), Relationship(source=Node(id='Neuroscience Research (Eddy Albarran)', type='Project', properties={}), target=Node(id='Learning By Reinforcement', type='Concept', properties={}), type='FOCUS', properties={}), Relationship(source=Node(id='Stephanie Lage', type='Person', properties={}), target=Node(id='Neurobiology And Neuroscience Research (Lage)', type='Project', properties={}), type='RESEARCH', properties={}), Relationship(source=Node(id='Stephanie Lage', type='Person', properties={}), target=Node(id='Bee Research', type='Project', properties={}), type='RESEARCH', properties={}), Relationship(source=Node(id='Stephanie Lage', type='Person', properties={}), target=Node(id='Biocomputation', type='Concept', properties={}), type='RESEARCH', properties={})]\n"
          ]
        }
      ]
    },
    {
      "cell_type": "code",
      "source": [
        "from pyvis.network import Network\n",
        "\n",
        "def visualize_graph(graph_documents):\n",
        "\n",
        "    # Create network\n",
        "    net = Network(height=\"1200px\", width=\"100%\", directed=True,\n",
        "                      notebook=False, bgcolor=\"#222222\", font_color=\"white\")\n",
        "\n",
        "    nodes = graph_documents[0].nodes\n",
        "    relationships = graph_documents[0].relationships\n",
        "\n",
        "    # Build lookup for valid nodes\n",
        "    node_dict = {node.id: node for node in nodes}\n",
        "\n",
        "    # Filter out invalid edges and collect valid node IDs\n",
        "    valid_edges = []\n",
        "    valid_node_ids = set()\n",
        "    for rel in relationships:\n",
        "        if rel.source.id in node_dict and rel.target.id in node_dict:\n",
        "            valid_edges.append(rel)\n",
        "            valid_node_ids.update([rel.source.id, rel.target.id])\n",
        "\n",
        "\n",
        "    # Track which nodes are part of any relationship\n",
        "    connected_node_ids = set()\n",
        "    for rel in relationships:\n",
        "        connected_node_ids.add(rel.source.id)\n",
        "        connected_node_ids.add(rel.target.id)\n",
        "\n",
        "    # Add valid nodes\n",
        "    for node_id in valid_node_ids:\n",
        "        node = node_dict[node_id]\n",
        "        try:\n",
        "            net.add_node(node.id, label=node.id, title=node.type, group=node.type)\n",
        "        except:\n",
        "            continue  # skip if error\n",
        "\n",
        "    # Add valid edges\n",
        "    for rel in valid_edges:\n",
        "        try:\n",
        "            net.add_edge(rel.source.id, rel.target.id, label=rel.type.lower())\n",
        "        except:\n",
        "            continue  # skip if error\n",
        "\n",
        "    # Configure physics\n",
        "    net.set_options(\"\"\"\n",
        "            {\n",
        "                \"physics\": {\n",
        "                    \"forceAtlas2Based\": {\n",
        "                        \"gravitationalConstant\": -100,\n",
        "                        \"centralGravity\": 0.01,\n",
        "                        \"springLength\": 200,\n",
        "                        \"springConstant\": 0.08\n",
        "                    },\n",
        "                    \"minVelocity\": 0.75,\n",
        "                    \"solver\": \"forceAtlas2Based\"\n",
        "                }\n",
        "            }\n",
        "            \"\"\")\n",
        "\n",
        "    output_file = \"knowledge_graph.html\"\n",
        "    net.save_graph(output_file)\n",
        "    print(f\"Graph saved to {os.path.abspath(output_file)}\")\n",
        "\n",
        "    # Try to open in browser\n",
        "    try:\n",
        "        import webbrowser\n",
        "        webbrowser.open(f\"file://{os.path.abspath(output_file)}\")\n",
        "    except:\n",
        "        print(\"Could not open browser automatically\")\n",
        "\n",
        "# Run the function\n",
        "visualize_graph(graph_documents)"
      ],
      "metadata": {
        "colab": {
          "base_uri": "https://localhost:8080/"
        },
        "id": "ow-F6TtQJuuo",
        "outputId": "304f426e-8a56-4d11-9338-469c3ed57cde"
      },
      "execution_count": null,
      "outputs": [
        {
          "output_type": "stream",
          "name": "stdout",
          "text": [
            "Graph saved to /content/knowledge_graph.html\n"
          ]
        }
      ]
    },
    {
      "cell_type": "code",
      "source": [
        "allowed_nodes = [\"Person\", \"Organization\", \"Location\", \"Award\", \"ResearchField\"]\n",
        "graph_transformer_nodes_defined = LLMGraphTransformer(llm=llm_instance, allowed_nodes=allowed_nodes)\n",
        "graph_documents_nodes_defined = await graph_transformer_nodes_defined.aconvert_to_graph_documents(documents)"
      ],
      "metadata": {
        "id": "cIXqedN8KLrx"
      },
      "execution_count": null,
      "outputs": []
    },
    {
      "cell_type": "code",
      "source": [
        "print(f\"Nodes:{graph_documents_nodes_defined[0].nodes}\")\n",
        "print(f\"Relationships:{graph_documents_nodes_defined[0].relationships}\")"
      ],
      "metadata": {
        "colab": {
          "base_uri": "https://localhost:8080/"
        },
        "id": "tqaGlRmwKldj",
        "outputId": "4af243fd-9275-46ea-8cbe-680f8a42ed2f"
      },
      "execution_count": null,
      "outputs": [
        {
          "output_type": "stream",
          "name": "stdout",
          "text": [
            "Nodes:[Node(id='Albert Einstein', type='Person', properties={}), Node(id='German Empire', type='Location', properties={}), Node(id='Switzerland', type='Location', properties={}), Node(id='Kingdom Of Württemberg', type='Location', properties={}), Node(id='Swiss Federal Polytechnic School In Zurich', type='Organization', properties={}), Node(id='Swiss Patent Office In Bern', type='Organization', properties={}), Node(id='University Of Zurich', type='Organization', properties={}), Node(id='Berlin', type='Location', properties={}), Node(id='Prussian Academy Of Sciences', type='Organization', properties={}), Node(id='Humboldt University Of Berlin', type='Organization', properties={}), Node(id='Kaiser Wilhelm Institute For Physics', type='Organization', properties={}), Node(id='Kingdom Of Prussia', type='Location', properties={}), Node(id='United States', type='Location', properties={}), Node(id='Adolf Hitler', type='Person', properties={}), Node(id='Nobel Prize In Physics', type='Award', properties={}), Node(id='Franklin D. Roosevelt', type='Person', properties={}), Node(id='Theory Of Relativity', type='Researchfield', properties={}), Node(id='Quantum Mechanics', type='Researchfield', properties={}), Node(id='Mass–Energy Equivalence', type='Researchfield', properties={}), Node(id='Photoelectric Effect', type='Researchfield', properties={}), Node(id='Brownian Motion', type='Researchfield', properties={}), Node(id='Special Theory Of Relativity', type='Researchfield', properties={}), Node(id='General Theory Of Relativity', type='Researchfield', properties={}), Node(id='Cosmology', type='Researchfield', properties={}), Node(id='Statistical Mechanics', type='Researchfield', properties={}), Node(id='Quantum Theory', type='Researchfield', properties={}), Node(id='Quantum Physics Of Radiation', type='Researchfield', properties={}), Node(id='Photon', type='Researchfield', properties={}), Node(id='Satyendra Nath Bose', type='Person', properties={}), Node(id='Bose–Einstein Statistics', type='Researchfield', properties={}), Node(id='Quantum Electrodynamics', type='Researchfield', properties={}), Node(id='Quantum Optics', type='Researchfield', properties={}), Node(id='Unified Field Theory', type='Researchfield', properties={})]\n",
            "Relationships:[Relationship(source=Node(id='Albert Einstein', type='Person', properties={}), target=Node(id='German Empire', type='Location', properties={}), type='BORN_IN', properties={}), Relationship(source=Node(id='Albert Einstein', type='Person', properties={}), target=Node(id='Switzerland', type='Location', properties={}), type='CITIZEN', properties={}), Relationship(source=Node(id='Albert Einstein', type='Person', properties={}), target=Node(id='Kingdom Of Württemberg', type='Location', properties={}), type='CITIZEN', properties={}), Relationship(source=Node(id='Albert Einstein', type='Person', properties={}), target=Node(id='Swiss Federal Polytechnic School In Zurich', type='Organization', properties={}), type='STUDENT', properties={}), Relationship(source=Node(id='Albert Einstein', type='Person', properties={}), target=Node(id='Swiss Patent Office In Bern', type='Organization', properties={}), type='EMPLOYEE', properties={}), Relationship(source=Node(id='Albert Einstein', type='Person', properties={}), target=Node(id='University Of Zurich', type='Organization', properties={}), type='STUDENT', properties={}), Relationship(source=Node(id='Albert Einstein', type='Person', properties={}), target=Node(id='Berlin', type='Location', properties={}), type='RESIDENCE', properties={}), Relationship(source=Node(id='Albert Einstein', type='Person', properties={}), target=Node(id='Prussian Academy Of Sciences', type='Organization', properties={}), type='MEMBER', properties={}), Relationship(source=Node(id='Albert Einstein', type='Person', properties={}), target=Node(id='Humboldt University Of Berlin', type='Organization', properties={}), type='PROFESSOR', properties={}), Relationship(source=Node(id='Albert Einstein', type='Person', properties={}), target=Node(id='Kaiser Wilhelm Institute For Physics', type='Organization', properties={}), type='DIRECTOR', properties={}), Relationship(source=Node(id='Albert Einstein', type='Person', properties={}), target=Node(id='Kingdom Of Prussia', type='Location', properties={}), type='CITIZEN', properties={}), Relationship(source=Node(id='Albert Einstein', type='Person', properties={}), target=Node(id='United States', type='Location', properties={}), type='CITIZEN', properties={}), Relationship(source=Node(id='Albert Einstein', type='Person', properties={}), target=Node(id='Adolf Hitler', type='Person', properties={}), type='CONTEMPORARY_OF', properties={}), Relationship(source=Node(id='Albert Einstein', type='Person', properties={}), target=Node(id='Nobel Prize In Physics', type='Award', properties={}), type='AWARDEE', properties={}), Relationship(source=Node(id='Albert Einstein', type='Person', properties={}), target=Node(id='Franklin D. Roosevelt', type='Person', properties={}), type='ENDORSED_LETTER_TO', properties={}), Relationship(source=Node(id='Albert Einstein', type='Person', properties={}), target=Node(id='Theory Of Relativity', type='Researchfield', properties={}), type='DEVELOPER', properties={}), Relationship(source=Node(id='Albert Einstein', type='Person', properties={}), target=Node(id='Quantum Mechanics', type='Researchfield', properties={}), type='CONTRIBUTOR', properties={}), Relationship(source=Node(id='Albert Einstein', type='Person', properties={}), target=Node(id='Mass–Energy Equivalence', type='Researchfield', properties={}), type='DEVELOPER', properties={}), Relationship(source=Node(id='Mass–Energy Equivalence', type='Researchfield', properties={}), target=Node(id='Special Theory Of Relativity', type='Researchfield', properties={}), type='ARISES_FROM', properties={}), Relationship(source=Node(id='Albert Einstein', type='Person', properties={}), target=Node(id='Photoelectric Effect', type='Researchfield', properties={}), type='DISCOVERER', properties={}), Relationship(source=Node(id='Albert Einstein', type='Person', properties={}), target=Node(id='Brownian Motion', type='Researchfield', properties={}), type='EXPLAINED', properties={}), Relationship(source=Node(id='Albert Einstein', type='Person', properties={}), target=Node(id='Special Theory Of Relativity', type='Researchfield', properties={}), type='DEVELOPER', properties={}), Relationship(source=Node(id='Albert Einstein', type='Person', properties={}), target=Node(id='General Theory Of Relativity', type='Researchfield', properties={}), type='PROPOSED', properties={}), Relationship(source=Node(id='General Theory Of Relativity', type='Researchfield', properties={}), target=Node(id='Cosmology', type='Researchfield', properties={}), type='APPLICATION', properties={}), Relationship(source=Node(id='Albert Einstein', type='Person', properties={}), target=Node(id='Statistical Mechanics', type='Researchfield', properties={}), type='CONTRIBUTOR', properties={}), Relationship(source=Node(id='Albert Einstein', type='Person', properties={}), target=Node(id='Quantum Theory', type='Researchfield', properties={}), type='CONTRIBUTOR', properties={}), Relationship(source=Node(id='Albert Einstein', type='Person', properties={}), target=Node(id='Quantum Physics Of Radiation', type='Researchfield', properties={}), type='CONTRIBUTOR', properties={}), Relationship(source=Node(id='Quantum Physics Of Radiation', type='Researchfield', properties={}), target=Node(id='Photon', type='Researchfield', properties={}), type='INTRODUCED', properties={}), Relationship(source=Node(id='Albert Einstein', type='Person', properties={}), target=Node(id='Satyendra Nath Bose', type='Person', properties={}), type='COLLABORATED_WITH', properties={}), Relationship(source=Node(id='Albert Einstein', type='Person', properties={}), target=Node(id='Bose–Einstein Statistics', type='Researchfield', properties={}), type='FOUNDATION_FOR', properties={}), Relationship(source=Node(id='Quantum Physics Of Radiation', type='Researchfield', properties={}), target=Node(id='Quantum Electrodynamics', type='Researchfield', properties={}), type='INFLUENCE', properties={}), Relationship(source=Node(id='Quantum Physics Of Radiation', type='Researchfield', properties={}), target=Node(id='Quantum Optics', type='Researchfield', properties={}), type='INFLUENCE', properties={}), Relationship(source=Node(id='Albert Einstein', type='Person', properties={}), target=Node(id='Unified Field Theory', type='Researchfield', properties={}), type='RESEARCHED', properties={})]\n"
          ]
        }
      ]
    },
    {
      "cell_type": "code",
      "source": [
        "allowed_nodes = [\"Person\", \"Organization\", \"Location\", \"Award\", \"ResearchField\"]\n",
        "allowed_relationships = [\n",
        "    (\"Person\", \"WORKS_AT\", \"Organization\"),\n",
        "    (\"Person\", \"SPOUSE\", \"Person\"),\n",
        "    (\"Person\", \"AWARD\", \"Award\"),\n",
        "    (\"Organization\", \"IN_LOCATION\", \"Location\"),\n",
        "    (\"Person\", \"FIELD_OF_RESEARCH\", \"ResearchField\")\n",
        "]\n",
        "graph_transformer_rel_defined = LLMGraphTransformer(\n",
        "  llm=llm_instance,\n",
        "  allowed_nodes=allowed_nodes,\n",
        "  allowed_relationships=allowed_relationships\n",
        ")\n",
        "graph_documents_rel_defined = await graph_transformer_rel_defined.aconvert_to_graph_documents(documents)"
      ],
      "metadata": {
        "id": "M-sEuyZQKp3t"
      },
      "execution_count": null,
      "outputs": []
    },
    {
      "cell_type": "code",
      "source": [
        "visualize_graph(graph_documents_rel_defined)\n"
      ],
      "metadata": {
        "colab": {
          "base_uri": "https://localhost:8080/"
        },
        "id": "SRDnZkDrKzi-",
        "outputId": "22a2bc80-9229-4b63-8c18-c006f4d4ab53"
      },
      "execution_count": null,
      "outputs": [
        {
          "output_type": "stream",
          "name": "stdout",
          "text": [
            "Graph saved to /content/knowledge_graph.html\n"
          ]
        }
      ]
    }
  ]
}